{
 "cells": [
  {
   "cell_type": "code",
   "execution_count": 1,
   "metadata": {},
   "outputs": [],
   "source": [
    "using Images"
   ]
  },
  {
   "cell_type": "code",
   "execution_count": 2,
   "metadata": {},
   "outputs": [
    {
     "data": {
      "text/plain": [
       "add_edge! (generic function with 1 method)"
      ]
     },
     "metadata": {},
     "output_type": "display_data"
    }
   ],
   "source": [
    "struct Node\n",
    "    id::Int\n",
    "    label::String\n",
    "end\n",
    "\n",
    "struct Edge\n",
    "    label::String\n",
    "    source::Node\n",
    "    target::Node\n",
    "end\n",
    "\n",
    "function id_generator(;init=10000)\n",
    "    id = init\n",
    "    return ()->(id+=1)\n",
    "end\n",
    "\n",
    "struct Graph\n",
    "    nodes::Vector{Node}\n",
    "    edges::Vector{Edge}\n",
    "    gen_id::Function\n",
    "    function Graph()\n",
    "        nodes = Node[]\n",
    "        edges = Edge[]\n",
    "        gen_id = id_generator()\n",
    "        new(nodes, edges, gen_id)\n",
    "    end\n",
    "end\n",
    "\n",
    "\n",
    "function add_node!(graph::Graph, label::String)\n",
    "    node = Node(graph.gen_id(), label)\n",
    "    push!(graph.nodes, node)\n",
    "    return node\n",
    "end\n",
    "\n",
    "function add_edge!(graph::Graph, label::String, source::Node, target::Node)\n",
    "    edge = Edge(label, source, target)\n",
    "    push!(graph.edges, edge)\n",
    "    return edge\n",
    "end"
   ]
  },
  {
   "cell_type": "code",
   "execution_count": 3,
   "metadata": {},
   "outputs": [
    {
     "data": {
      "text/plain": [
       "dfs! (generic function with 3 methods)"
      ]
     },
     "metadata": {},
     "output_type": "display_data"
    }
   ],
   "source": [
    "function to_graph(f::Expr)::Graph\n",
    "    graph = Graph()\n",
    "    root = add_node!(graph, string(f.args[1]))\n",
    "    for arg in f.args[2:end]\n",
    "        dfs!(arg, root, graph)\n",
    "    end\n",
    "    return graph\n",
    "end\n",
    "\n",
    "function dfs!(f::Expr, parent::Node, graph::Graph)\n",
    "    @assert f.head == :call\n",
    "    op = f.args[1]\n",
    "    node = add_node!(graph, string(op))\n",
    "    edge = add_edge!(graph, \"\", parent, node)\n",
    "    for arg in f.args[2:end]\n",
    "        dfs!(arg, node, graph)\n",
    "    end\n",
    "end\n",
    "\n",
    "function dfs!(f::Symbol, parent::Node, graph::Graph)\n",
    "    node = add_node!(graph, string(f))\n",
    "    edge = add_edge!(graph, \"\", parent, node)\n",
    "end\n",
    "\n",
    "function dfs!(f::Int64, parent::Node, graph::Graph)\n",
    "    node = add_node!(graph, string(f))\n",
    "    edge = add_edge!(graph, \"\", parent, node)\n",
    "end\n"
   ]
  },
  {
   "cell_type": "code",
   "execution_count": 4,
   "metadata": {},
   "outputs": [
    {
     "data": {
      "text/plain": [
       "to_graphviz (generic function with 1 method)"
      ]
     },
     "metadata": {},
     "output_type": "display_data"
    }
   ],
   "source": [
    "function to_graphviz(g::Graph)::String\n",
    "    s = \"\"\"digraph G {\n",
    "        node [shape=plaintext, fontname=\\\"Courier New\\\", fontsize=30, shape=none];\n",
    "        edge [fontname=\\\"Courier New\\\", fontsize=12, penwidth=0.5, arrowsize=0.5];\n",
    "    \"\"\"\n",
    "    for node in g.nodes\n",
    "        s *= \"    $(node.id) [label=\\\"$(node.label)\\\"];\\n\"\n",
    "    end\n",
    "    for edge in g.edges\n",
    "        s *= \"    $(edge.source.id) -> $(edge.target.id) [label=\\\"$(edge.label)\\\"];\\n\"\n",
    "    end\n",
    "    s *= \"}\\n\"\n",
    "    return s\n",
    "end"
   ]
  },
  {
   "cell_type": "code",
   "execution_count": 5,
   "metadata": {},
   "outputs": [
    {
     "data": {
      "text/plain": [
       "to_latex (generic function with 3 methods)"
      ]
     },
     "metadata": {},
     "output_type": "display_data"
    }
   ],
   "source": [
    "function to_latex(ex::Expr)::String\n",
    "    @assert ex.head == :call\n",
    "    op = ex.args[1]\n",
    "    if op == :+\n",
    "        return \"\\\\left(\" * to_latex(ex.args[2]) * \" + \" * to_latex(ex.args[3]) * \"\\\\right)\"\n",
    "    elseif op == :-\n",
    "        return \"\\\\left(\" * to_latex(ex.args[2]) * \" - \" * to_latex(ex.args[3]) * \"\\\\right)\"\n",
    "    elseif op == :*\n",
    "        return to_latex(ex.args[2]) * \" \\\\cdot \" * to_latex(ex.args[3])\n",
    "    elseif op == :/\n",
    "        return \"\\\\dfrac{\" * to_latex(ex.args[2]) * \"}{\" * to_latex(ex.args[3]) * \"}\"\n",
    "    elseif op == :^\n",
    "        inner = to_latex(ex.args[2])\n",
    "        if length(inner) > 1\n",
    "            inner = \"\\\\left(\" * inner * \"\\\\right)\"\n",
    "        end\n",
    "        return inner * \"^{\" * to_latex(ex.args[3]) * \"}\"\n",
    "    else\n",
    "        throw(\"Unknown operator $op\")\n",
    "    end\n",
    "end\n",
    "\n",
    "\n",
    "function to_latex(ex::Symbol)::String\n",
    "    return string(ex)\n",
    "end\n",
    "\n",
    "function to_latex(ex::Int64)::String\n",
    "    return string(ex)\n",
    "end"
   ]
  },
  {
   "cell_type": "code",
   "execution_count": 6,
   "metadata": {},
   "outputs": [
    {
     "name": "stdout",
     "output_type": "stream",
     "text": [
      "\\dfrac{\\left(2 \\cdot x^{2} - \\left(1 + x\\right) \\cdot 2 \\cdot 2 \\cdot x\\right)}{\\left(2 \\cdot x^{2}\\right)^{2}}\n"
     ]
    }
   ],
   "source": [
    "println(to_latex(:((2 * x ^ 2 - (1 + x) * (2 * (2x))) / (2 * x ^ 2) ^ 2)))"
   ]
  },
  {
   "cell_type": "code",
   "execution_count": 7,
   "metadata": {},
   "outputs": [
    {
     "data": {
      "text/plain": [
       "plot_graphviz (generic function with 1 method)"
      ]
     },
     "metadata": {},
     "output_type": "display_data"
    }
   ],
   "source": [
    "function plot_graphviz(src::String)\n",
    "    f = open(\"tmp.dot\", \"w\")\n",
    "    write(f, src)\n",
    "    close(f)\n",
    "    run(`dot -Tpng tmp.dot -o tmp.png`)\n",
    "    run(`rm tmp.dot`)\n",
    "    img = load(\"tmp.png\")\n",
    "    run(`rm tmp.png`)\n",
    "    return img\n",
    "end"
   ]
  },
  {
   "cell_type": "code",
   "execution_count": 8,
   "metadata": {},
   "outputs": [
    {
     "data": {
      "text/plain": [
       "@plot (macro with 1 method)"
      ]
     },
     "metadata": {},
     "output_type": "display_data"
    }
   ],
   "source": [
    "macro plot(ex)\n",
    "    return ex |> to_graph |> to_graphviz |> plot_graphviz\n",
    "end"
   ]
  },
  {
   "cell_type": "code",
   "execution_count": 9,
   "metadata": {},
   "outputs": [
    {
     "data": {
      "image/png": "[encoded data removed]",
      "text/html": [
       "<img src=\"data:image/png;base64,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\">"
      ],
      "text/plain": [
       "280×227 Array{RGBA{N0f8},2} with eltype RGBA{N0f8}:\n",
       " RGBA{N0f8}(1.0,1.0,1.0,1.0)    …  RGBA{N0f8}(1.0,1.0,1.0,0.667)\n",
       " RGBA{N0f8}(1.0,1.0,1.0,1.0)       RGBA{N0f8}(1.0,1.0,1.0,0.667)\n",
       " RGBA{N0f8}(1.0,1.0,1.0,1.0)       RGBA{N0f8}(1.0,1.0,1.0,0.667)\n",
       " RGBA{N0f8}(1.0,1.0,1.0,1.0)       RGBA{N0f8}(1.0,1.0,1.0,0.667)\n",
       " RGBA{N0f8}(1.0,1.0,1.0,1.0)       RGBA{N0f8}(1.0,1.0,1.0,0.667)\n",
       " RGBA{N0f8}(1.0,1.0,1.0,1.0)    …  RGBA{N0f8}(1.0,1.0,1.0,0.667)\n",
       " RGBA{N0f8}(1.0,1.0,1.0,1.0)       RGBA{N0f8}(1.0,1.0,1.0,0.667)\n",
       " RGBA{N0f8}(1.0,1.0,1.0,1.0)       RGBA{N0f8}(1.0,1.0,1.0,0.667)\n",
       " RGBA{N0f8}(1.0,1.0,1.0,1.0)       RGBA{N0f8}(1.0,1.0,1.0,0.667)\n",
       " RGBA{N0f8}(1.0,1.0,1.0,1.0)       RGBA{N0f8}(1.0,1.0,1.0,0.667)\n",
       " ⋮                              ⋱  \n",
       " RGBA{N0f8}(1.0,1.0,1.0,1.0)       RGBA{N0f8}(1.0,1.0,1.0,0.667)\n",
       " RGBA{N0f8}(1.0,1.0,1.0,1.0)       RGBA{N0f8}(1.0,1.0,1.0,0.667)\n",
       " RGBA{N0f8}(1.0,1.0,1.0,1.0)       RGBA{N0f8}(1.0,1.0,1.0,0.667)\n",
       " RGBA{N0f8}(1.0,1.0,1.0,1.0)       RGBA{N0f8}(1.0,1.0,1.0,0.667)\n",
       " RGBA{N0f8}(1.0,1.0,1.0,1.0)    …  RGBA{N0f8}(1.0,1.0,1.0,0.667)\n",
       " RGBA{N0f8}(1.0,1.0,1.0,1.0)       RGBA{N0f8}(1.0,1.0,1.0,0.667)\n",
       " RGBA{N0f8}(1.0,1.0,1.0,1.0)       RGBA{N0f8}(1.0,1.0,1.0,0.667)\n",
       " RGBA{N0f8}(1.0,1.0,1.0,1.0)       RGBA{N0f8}(1.0,1.0,1.0,0.667)\n",
       " RGBA{N0f8}(1.0,1.0,1.0,0.667)     RGBA{N0f8}(1.0,1.0,1.0,0.447)"
      ]
     },
     "metadata": {},
     "output_type": "display_data"
    }
   ],
   "source": [
    "(@plot 4x + 3)"
   ]
  },
  {
   "cell_type": "code",
   "execution_count": 10,
   "metadata": {},
   "outputs": [
    {
     "data": {
      "text/plain": [
       "derivative (generic function with 3 methods)"
      ]
     },
     "metadata": {},
     "output_type": "display_data"
    }
   ],
   "source": [
    "function derivative(ex::Expr)::Expr\n",
    "    op = ex.args[1]\n",
    "    if op == :+\n",
    "        return Expr(:call, :+, derivative(ex.args[2]), derivative(ex.args[3]))\n",
    "    elseif op == :*\n",
    "        return Expr(\n",
    "            :call,\n",
    "            :+,\n",
    "            Expr(:call, :*, ex.args[2], derivative(ex.args[3])),\n",
    "            Expr(:call, :*, derivative(ex.args[2]), ex.args[3])\n",
    "        )\n",
    "    else\n",
    "        error(\"not implemented\")\n",
    "    end\n",
    "end\n",
    "\n",
    "derivative(ex::Symbol) = 1\n",
    "\n",
    "derivative(ex::Int64) = 0"
   ]
  },
  {
   "cell_type": "code",
   "execution_count": 11,
   "metadata": {},
   "outputs": [
    {
     "data": {
      "text/plain": [
       ":((x * 1 + 1x) + 0)"
      ]
     },
     "metadata": {},
     "output_type": "display_data"
    }
   ],
   "source": [
    "f = :(x * x + 3)\n",
    "df = derivative(f)"
   ]
  },
  {
   "cell_type": "code",
   "execution_count": 12,
   "metadata": {},
   "outputs": [
    {
     "data": {
      "text/plain": [
       "20"
      ]
     },
     "metadata": {},
     "output_type": "display_data"
    }
   ],
   "source": [
    "x = 10\n",
    "eval(df)"
   ]
  },
  {
   "cell_type": "code",
   "execution_count": 13,
   "metadata": {},
   "outputs": [
    {
     "name": "stdout",
     "output_type": "stream",
     "text": [
      "x * 1 + 1x\n"
     ]
    }
   ],
   "source": [
    "derivative(:(x * x)) |> println"
   ]
  },
  {
   "cell_type": "code",
   "execution_count": 14,
   "metadata": {},
   "outputs": [
    {
     "data": {
      "text/plain": [
       ":(2 * x * x + 3x + 1)"
      ]
     },
     "metadata": {},
     "output_type": "display_data"
    }
   ],
   "source": [
    "f = :(2 * x * x + 3 * x + 1)"
   ]
  },
  {
   "cell_type": "code",
   "execution_count": 15,
   "metadata": {},
   "outputs": [
    {
     "name": "stdout",
     "output_type": "stream",
     "text": [
      "digraph G {\n",
      "    node [shape=plaintext, fontname=\"Courier New\", fontsize=30, shape=none];\n",
      "    edge [fontname=\"Courier New\", fontsize=12, penwidth=0.5, arrowsize=0.5];\n",
      "    10001 [label=\"+\"];\n",
      "    10002 [label=\"*\"];\n",
      "    10003 [label=\"2\"];\n",
      "    10004 [label=\"x\"];\n",
      "    10005 [label=\"x\"];\n",
      "    10006 [label=\"*\"];\n",
      "    10007 [label=\"3\"];\n",
      "    10008 [label=\"x\"];\n",
      "    10009 [label=\"1\"];\n",
      "    10001 -> 10002 [label=\"\"];\n",
      "    10002 -> 10003 [label=\"\"];\n",
      "    10002 -> 10004 [label=\"\"];\n",
      "    10002 -> 10005 [label=\"\"];\n",
      "    10001 -> 10006 [label=\"\"];\n",
      "    10006 -> 10007 [label=\"\"];\n",
      "    10006 -> 10008 [label=\"\"];\n",
      "    10001 -> 10009 [label=\"\"];\n",
      "}\n",
      "\n"
     ]
    }
   ],
   "source": [
    "f |> to_graph |> to_graphviz |> println"
   ]
  },
  {
   "cell_type": "code",
   "execution_count": 16,
   "metadata": {},
   "outputs": [
    {
     "name": "stdout",
     "output_type": "stream",
     "text": [
      "Expr\n",
      "  head: Symbol call\n",
      "  args: Array{Any}((4,))\n",
      "    1: Symbol *\n",
      "    2: Int64 2\n",
      "    3: Symbol x\n",
      "    4: Symbol x\n"
     ]
    }
   ],
   "source": [
    "dump(:(2 * x * x))"
   ]
  },
  {
   "cell_type": "code",
   "execution_count": 17,
   "metadata": {},
   "outputs": [
    {
     "data": {
      "text/plain": [
       "derivative (generic function with 3 methods)"
      ]
     },
     "metadata": {},
     "output_type": "display_data"
    }
   ],
   "source": [
    "function add(args)\n",
    "    args = filter(x->x != 0, args)\n",
    "    if length(args) == 0\n",
    "        return 0\n",
    "    elseif length(args) == 1\n",
    "        return args[1]\n",
    "    else\n",
    "        return Expr(:call, :+, args...)\n",
    "    end\n",
    "end\n",
    "\n",
    "function sub(args)\n",
    "    @assert length(args) == 2\n",
    "    if args[2] == 0\n",
    "        return args[1]\n",
    "    else\n",
    "        return Expr(:call, :-, args...)\n",
    "    end\n",
    "end\n",
    "\n",
    "function mul(args)\n",
    "    if 0 in args\n",
    "        return 0\n",
    "    end\n",
    "\n",
    "    args = filter(x->x != 1, args)\n",
    "    # 全部 1 だった場合\n",
    "    if length(args) == 0\n",
    "        return 1\n",
    "    # 一個だけ残った場合\n",
    "    elseif length(args) == 1\n",
    "        return args[1]\n",
    "    else\n",
    "        return Expr(:call, :*, args...)\n",
    "    end\n",
    "end\n",
    "\n",
    "function div(args)\n",
    "    @assert length(args) == 2\n",
    "    if args[2] == 1\n",
    "        return args[1]\n",
    "    else\n",
    "        return Expr(:call, :/, args...)\n",
    "    end\n",
    "end\n",
    "\n",
    "function pow(args)\n",
    "    @assert length(args) == 2\n",
    "    if args[2] == 0\n",
    "        return 1\n",
    "    elseif args[2] == 1\n",
    "        return args[1]\n",
    "    else\n",
    "        return Expr(:call, :^, args...)\n",
    "    end\n",
    "end\n",
    "\n",
    "\n",
    "\n",
    "function derivative(ex::Expr)\n",
    "    op = ex.args[1]\n",
    "    if op == :+\n",
    "        return add(derivative.(ex.args[2:end]))\n",
    "    elseif op == :-\n",
    "        return sub([\n",
    "            derivative(ex.args[2]),\n",
    "            derivative(ex.args[3])\n",
    "        ])\n",
    "    elseif op == :*\n",
    "        if length(ex.args) == 3\n",
    "            return add([\n",
    "                mul([ex.args[2], derivative(ex.args[3])]),\n",
    "                mul([derivative(ex.args[2]), ex.args[3]])\n",
    "            ])\n",
    "        else\n",
    "            t = mul(ex.args[3:end])\n",
    "            return add([\n",
    "                mul([ex.args[2], derivative(t)]),\n",
    "                mul([derivative(ex.args[2]), t])\n",
    "            ])\n",
    "        end\n",
    "    elseif op == :/\n",
    "        return div([\n",
    "            sub([\n",
    "                mul([derivative(ex.args[2]), ex.args[3]]),\n",
    "                mul([ex.args[2], derivative(ex.args[3])])\n",
    "            ]),\n",
    "            pow([ex.args[3], 2])\n",
    "        ])\n",
    "\n",
    "    elseif op == :^\n",
    "        @assert ex.args[3] isa Int64\n",
    "        return mul([\n",
    "            ex.args[3],\n",
    "            pow([ex.args[2], ex.args[3] - 1]),\n",
    "            derivative(ex.args[2])\n",
    "        ])\n",
    "    else\n",
    "        error(\"not implemented\")\n",
    "    end\n",
    "end\n",
    "\n",
    "derivative(ex::Symbol) = 1\n",
    "\n",
    "derivative(ex::Int64) = 0"
   ]
  },
  {
   "cell_type": "code",
   "execution_count": 18,
   "metadata": {},
   "outputs": [
    {
     "data": {
      "text/plain": [
       ":(((x * x) * (x * x)) * ((x * x) * (x * x)))"
      ]
     },
     "metadata": {},
     "output_type": "display_data"
    }
   ],
   "source": [
    "t1 = :(x * x)\n",
    "t2 = :($t1 * $t1)\n",
    "y = :($t2 * $t2)"
   ]
  },
  {
   "cell_type": "code",
   "execution_count": 19,
   "metadata": {},
   "outputs": [
    {
     "name": "stdout",
     "output_type": "stream",
     "text": [
      "x \\cdot x \\cdot x \\cdot x \\cdot x \\cdot x \\cdot x \\cdot x\n"
     ]
    }
   ],
   "source": [
    "to_latex(y) |> println"
   ]
  },
  {
   "cell_type": "code",
   "execution_count": 20,
   "metadata": {},
   "outputs": [
    {
     "data": {
      "text/plain": [
       ":(((x * x) * (x * x)) * ((x * x) * (x + x) + (x + x) * (x * x)) + ((x * x) * (x + x) + (x + x) * (x * x)) * ((x * x) * (x * x)))"
      ]
     },
     "metadata": {},
     "output_type": "display_data"
    }
   ],
   "source": [
    "df = derivative(y)"
   ]
  },
  {
   "cell_type": "code",
   "execution_count": 21,
   "metadata": {},
   "outputs": [
    {
     "name": "stdout",
     "output_type": "stream",
     "text": [
      "(eval(df), 8 * x ^ 7) = (8, 8)\n",
      "(eval(df), 8 * x ^ 7) = (1024, 1024)\n",
      "(eval(df), 8 * x ^ 7) = (17496, 17496)\n"
     ]
    }
   ],
   "source": [
    "x = 1; @show eval(df), 8x^7\n",
    "x = 2; @show eval(df), 8x^7\n",
    "x = 3; @show eval(df), 8x^7\n",
    ";"
   ]
  },
  {
   "cell_type": "code",
   "execution_count": 22,
   "metadata": {},
   "outputs": [
    {
     "data": {
      "text/plain": [
       ":((2 * x ^ 2 - (1 + x) * (2 * (2x))) / (2 * x ^ 2) ^ 2)"
      ]
     },
     "metadata": {},
     "output_type": "display_data"
    }
   ],
   "source": [
    "f = :((2 * x ^ 2 - (1 + x) * (2 * (2x))) / (2 * x ^ 2) ^ 2)"
   ]
  },
  {
   "cell_type": "code",
   "execution_count": 23,
   "metadata": {},
   "outputs": [
    {
     "data": {
      "text/plain": [
       "to_wengert (generic function with 7 methods)"
      ]
     },
     "metadata": {},
     "output_type": "display_data"
    }
   ],
   "source": [
    "# 参考にした実装: https://github.com/MikeInnes/diff-zoo/blob/master/src/utils.jl\n",
    "# 元実装と違い、共通部分式を共有するようにしています. (代入ありだと小さくなることを示すデモ用なので)\n",
    "function to_wengert(ex::Int64, cashe, n, wlist, top)\n",
    "    return ex\n",
    "end\n",
    "\n",
    "function to_wengert(ex::Symbol, cashe, n, wlist, top)\n",
    "    return ex\n",
    "end\n",
    "\n",
    "function to_wengert(ex::Expr, cashe=Dict{Expr, Symbol}(), n=Ref(0), wlist=[], top=true)\n",
    "    if haskey(cashe, ex) \n",
    "        return cashe[ex]    \n",
    "    end\n",
    "    args = map(x -> to_wengert(x, cashe, n, wlist, false), ex.args)\n",
    "    sym = Symbol(:y, \"_{\", n[] += 1, \"}\")\n",
    "    push!(wlist, (sym => Expr(ex.head, args...)))\n",
    "    cashe[ex] = sym\n",
    "    if top\n",
    "        return wlist\n",
    "    else\n",
    "        return sym\n",
    "    end\n",
    "end"
   ]
  },
  {
   "cell_type": "code",
   "execution_count": 24,
   "metadata": {},
   "outputs": [
    {
     "data": {
      "text/plain": [
       "9-element Vector{Any}:\n",
       " Symbol(\"y_{1}\") => :(x ^ 2)\n",
       " Symbol(\"y_{2}\") => :(2var\"y_{1}\")\n",
       " Symbol(\"y_{3}\") => :(1 + x)\n",
       " Symbol(\"y_{4}\") => :(2x)\n",
       " Symbol(\"y_{5}\") => :(2var\"y_{4}\")\n",
       " Symbol(\"y_{6}\") => :(var\"y_{3}\" * var\"y_{5}\")\n",
       " Symbol(\"y_{7}\") => :(var\"y_{2}\" - var\"y_{6}\")\n",
       " Symbol(\"y_{8}\") => :(var\"y_{2}\" ^ 2)\n",
       " Symbol(\"y_{9}\") => :(var\"y_{7}\" / var\"y_{8}\")"
      ]
     },
     "metadata": {},
     "output_type": "display_data"
    }
   ],
   "source": [
    "wlist = to_wengert(f)"
   ]
  },
  {
   "cell_type": "code",
   "execution_count": 25,
   "metadata": {},
   "outputs": [
    {
     "name": "stdout",
     "output_type": "stream",
     "text": [
      "\\begin{split}\n",
      "y_{1} &= x^{2} \\\\\n",
      "y_{2} &= 2 \\cdot y_{1} \\\\\n",
      "y_{3} &= \\left(1 + x\\right) \\\\\n",
      "y_{4} &= 2 \\cdot x \\\\\n",
      "y_{5} &= 2 \\cdot y_{4} \\\\\n",
      "y_{6} &= y_{3} \\cdot y_{5} \\\\\n",
      "y_{7} &= \\left(y_{2} - y_{6}\\right) \\\\\n",
      "y_{8} &= \\left(y_{2}\\right)^{2} \\\\\n",
      "y_{9} &= \\dfrac{y_{7}}{y_{8}} \\\\\n",
      "\\end{split}\n"
     ]
    }
   ],
   "source": [
    "println(raw\"\\begin{split}\")\n",
    "for (v, instruction) in wlist\n",
    "    left = string(v)\n",
    "    right = to_latex(instruction)\n",
    "    println(\"$left &= $right \\\\\\\\\")\n",
    "end\n",
    "println(raw\"\\end{split}\")"
   ]
  },
  {
   "cell_type": "code",
   "execution_count": 26,
   "metadata": {},
   "outputs": [
    {
     "data": {
      "text/plain": [
       "sym_to_id (generic function with 1 method)"
      ]
     },
     "metadata": {},
     "output_type": "display_data"
    }
   ],
   "source": [
    "function sym_to_id(sym)\n",
    "    m = match(r\"y_{(\\d+)}\", string(sym))\n",
    "    return parse(Int, m.captures[1])\n",
    "end"
   ]
  },
  {
   "cell_type": "code",
   "execution_count": 27,
   "metadata": {},
   "outputs": [
    {
     "data": {
      "text/plain": [
       "\"digraph G {\\n    node [shape=plaintext, fontname=\\\"Courier New\\\", fontsize=30, shape=none];\\n    edge [fontname=\\\"Courier New\\\", fontsize=12, penwidth=0.5, arrowsize=0.5];\\n    subgraph cluster_1 {\\n        label = \\\"y_{1}\\\"\\n        1 [label=\\\"y_{1}\\\"];\\n        10001 [label=\\\"^\\\"];\\n \" ⋯ 1671 bytes ⋯ \"   10016 -> 10017;\\n        8 -> 10016;\\n    }\\n    subgraph cluster_9 {\\n        label = \\\"y_{9}\\\"\\n        9 [label=\\\"y_{9}\\\"];\\n        10018 [label=\\\"/\\\"];\\n        7 [label=\\\"y_{7}\\\"];\\n        8 [label=\\\"y_{8}\\\"];\\n        10018 -> 7;\\n        10018 -> 8;\\n        9 -> 10018;\\n    }\\n}\\n\""
      ]
     },
     "metadata": {},
     "output_type": "display_data"
    }
   ],
   "source": [
    "src = \"\"\"digraph G {\n",
    "    node [shape=plaintext, fontname=\\\"Courier New\\\", fontsize=30, shape=none];\n",
    "    edge [fontname=\\\"Courier New\\\", fontsize=12, penwidth=0.5, arrowsize=0.5];\n",
    "\"\"\"\n",
    "\n",
    "id_gen = id_generator()\n",
    "is_inter(sym) = occursin(r\"y_{(\\d+)}\", string(sym))\n",
    "\n",
    "for (v, instruction) in wlist\n",
    "    op = instruction.args[1]\n",
    "    arg1 = instruction.args[2]\n",
    "    arg2 = instruction.args[3]\n",
    "\n",
    "    \n",
    "    v_id = sym_to_id(v)\n",
    "    op_id = id_gen()\n",
    "\n",
    "    if is_inter(arg1)\n",
    "        arg1_id = sym_to_id(arg1)\n",
    "    else\n",
    "        arg1_id = id_gen()\n",
    "    end\n",
    "\n",
    "    if is_inter(arg2)\n",
    "        arg2_id = sym_to_id(arg2)\n",
    "    else\n",
    "        arg2_id = id_gen()\n",
    "    end\n",
    "\n",
    "\n",
    "    # create subgraph\n",
    "    src *= \"    subgraph cluster_$(v_id) {\\n\"\n",
    "    src *= \"        label = \\\"$v\\\"\\n\"\n",
    "    src *= \"        $(v_id) [label=\\\"$v\\\"];\\n\"\n",
    "    src *= \"        $(op_id) [label=\\\"$op\\\"];\\n\"\n",
    "    src *= \"        $(arg1_id) [label=\\\"$arg1\\\"];\\n\"\n",
    "    src *= \"        $(arg2_id) [label=\\\"$arg2\\\"];\\n\"\n",
    "    src *= \"        $(op_id) -> $(arg1_id);\\n\"\n",
    "    src *= \"        $(op_id) -> $(arg2_id);\\n\"\n",
    "    src *= \"        $(v_id) -> $(op_id);\\n\"\n",
    "    src *= \"    }\\n\"    \n",
    "end\n",
    "\n",
    "src *= \"}\\n\""
   ]
  },
  {
   "cell_type": "code",
   "execution_count": 28,
   "metadata": {},
   "outputs": [
    {
     "data": {
      "image/png": "[encoded data removed]",
      "text/html": [
       "<img src=\"data:image/png;base64,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\">"
      ],
      "text/plain": [
       "1256×968 Array{RGB{N0f8},2} with eltype RGB{N0f8}:\n",
       " RGB{N0f8}(1.0,1.0,1.0)  RGB{N0f8}(1.0,1.0,1.0)  …  RGB{N0f8}(1.0,1.0,1.0)\n",
       " RGB{N0f8}(1.0,1.0,1.0)  RGB{N0f8}(1.0,1.0,1.0)     RGB{N0f8}(1.0,1.0,1.0)\n",
       " RGB{N0f8}(1.0,1.0,1.0)  RGB{N0f8}(1.0,1.0,1.0)     RGB{N0f8}(1.0,1.0,1.0)\n",
       " RGB{N0f8}(1.0,1.0,1.0)  RGB{N0f8}(1.0,1.0,1.0)     RGB{N0f8}(1.0,1.0,1.0)\n",
       " RGB{N0f8}(1.0,1.0,1.0)  RGB{N0f8}(1.0,1.0,1.0)     RGB{N0f8}(1.0,1.0,1.0)\n",
       " RGB{N0f8}(1.0,1.0,1.0)  RGB{N0f8}(1.0,1.0,1.0)  …  RGB{N0f8}(1.0,1.0,1.0)\n",
       " RGB{N0f8}(1.0,1.0,1.0)  RGB{N0f8}(1.0,1.0,1.0)     RGB{N0f8}(1.0,1.0,1.0)\n",
       " RGB{N0f8}(1.0,1.0,1.0)  RGB{N0f8}(1.0,1.0,1.0)     RGB{N0f8}(1.0,1.0,1.0)\n",
       " RGB{N0f8}(1.0,1.0,1.0)  RGB{N0f8}(1.0,1.0,1.0)     RGB{N0f8}(1.0,1.0,1.0)\n",
       " RGB{N0f8}(1.0,1.0,1.0)  RGB{N0f8}(1.0,1.0,1.0)     RGB{N0f8}(1.0,1.0,1.0)\n",
       " ⋮                                               ⋱  \n",
       " RGB{N0f8}(1.0,1.0,1.0)  RGB{N0f8}(1.0,1.0,1.0)     RGB{N0f8}(1.0,1.0,1.0)\n",
       " RGB{N0f8}(1.0,1.0,1.0)  RGB{N0f8}(1.0,1.0,1.0)     RGB{N0f8}(1.0,1.0,1.0)\n",
       " RGB{N0f8}(1.0,1.0,1.0)  RGB{N0f8}(1.0,1.0,1.0)     RGB{N0f8}(1.0,1.0,1.0)\n",
       " RGB{N0f8}(1.0,1.0,1.0)  RGB{N0f8}(1.0,1.0,1.0)  …  RGB{N0f8}(1.0,1.0,1.0)\n",
       " RGB{N0f8}(1.0,1.0,1.0)  RGB{N0f8}(1.0,1.0,1.0)     RGB{N0f8}(1.0,1.0,1.0)\n",
       " RGB{N0f8}(1.0,1.0,1.0)  RGB{N0f8}(1.0,1.0,1.0)     RGB{N0f8}(1.0,1.0,1.0)\n",
       " RGB{N0f8}(1.0,1.0,1.0)  RGB{N0f8}(1.0,1.0,1.0)     RGB{N0f8}(1.0,1.0,1.0)\n",
       " RGB{N0f8}(1.0,1.0,1.0)  RGB{N0f8}(1.0,1.0,1.0)     RGB{N0f8}(1.0,1.0,1.0)\n",
       " RGB{N0f8}(1.0,1.0,1.0)  RGB{N0f8}(1.0,1.0,1.0)  …  RGB{N0f8}(1.0,1.0,1.0)"
      ]
     },
     "metadata": {},
     "output_type": "display_data"
    }
   ],
   "source": [
    "plot_graphviz(src)"
   ]
  },
  {
   "cell_type": "code",
   "execution_count": 29,
   "metadata": {},
   "outputs": [],
   "source": []
  }
 ],
 "metadata": {
  "kernelspec": {
   "display_name": "Julia 1.9.1",
   "language": "julia",
   "name": "julia-1.9"
  },
  "language_info": {
   "file_extension": ".jl",
   "mimetype": "application/julia",
   "name": "julia",
   "version": "1.9.1"
  }
 },
 "nbformat": 4,
 "nbformat_minor": 2
}
