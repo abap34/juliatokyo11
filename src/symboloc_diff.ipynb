{
 "cells": [
  {
   "cell_type": "code",
   "execution_count": 1,
   "metadata": {},
   "outputs": [],
   "source": [
    "using Plots"
   ]
  },
  {
   "cell_type": "code",
   "execution_count": 2,
   "metadata": {},
   "outputs": [
    {
     "data": {
      "text/plain": [
       "add_edge! (generic function with 1 method)"
      ]
     },
     "execution_count": 2,
     "metadata": {},
     "output_type": "execute_result"
    }
   ],
   "source": [
    "struct Node\n",
    "    id::Int\n",
    "    label::String\n",
    "end\n",
    "\n",
    "struct Edge\n",
    "    label::String\n",
    "    source::Node\n",
    "    target::Node\n",
    "end\n",
    "\n",
    "function id_generator()\n",
    "    id = 0\n",
    "    return ()->(id+=1)\n",
    "end\n",
    "\n",
    "struct Graph\n",
    "    nodes::Vector{Node}\n",
    "    edges::Vector{Edge}\n",
    "    gen_id::Function\n",
    "    function Graph()\n",
    "        nodes = Node[]\n",
    "        edges = Edge[]\n",
    "        gen_id = id_generator()\n",
    "        new(nodes, edges, gen_id)\n",
    "    end\n",
    "end\n",
    "\n",
    "\n",
    "function add_node!(graph::Graph, label::String)\n",
    "    node = Node(graph.gen_id(), label)\n",
    "    push!(graph.nodes, node)\n",
    "    return node\n",
    "end\n",
    "\n",
    "function add_edge!(graph::Graph, label::String, source::Node, target::Node)\n",
    "    edge = Edge(label, source, target)\n",
    "    push!(graph.edges, edge)\n",
    "    return edge\n",
    "end"
   ]
  },
  {
   "cell_type": "code",
   "execution_count": 3,
   "metadata": {},
   "outputs": [
    {
     "data": {
      "text/plain": [
       "dfs! (generic function with 3 methods)"
      ]
     },
     "execution_count": 3,
     "metadata": {},
     "output_type": "execute_result"
    }
   ],
   "source": [
    "function to_graph(f::Expr)::Graph\n",
    "    graph = Graph()\n",
    "    root = add_node!(graph, string(f.args[1]))\n",
    "    for arg in f.args[2:end]\n",
    "        dfs!(arg, root, graph)\n",
    "    end\n",
    "    return graph\n",
    "end\n",
    "\n",
    "function dfs!(f::Expr, parent::Node, graph::Graph)\n",
    "    @assert f.head == :call\n",
    "    op = f.args[1]\n",
    "    node = add_node!(graph, string(op))\n",
    "    edge = add_edge!(graph, \"\", parent, node)\n",
    "    for arg in f.args[2:end]\n",
    "        dfs!(arg, node, graph)\n",
    "    end\n",
    "end\n",
    "\n",
    "function dfs!(f::Symbol, parent::Node, graph::Graph)\n",
    "    node = add_node!(graph, string(f))\n",
    "    edge = add_edge!(graph, \"\", parent, node)\n",
    "end\n",
    "\n",
    "function dfs!(f::Int64, parent::Node, graph::Graph)\n",
    "    node = add_node!(graph, string(f))\n",
    "    edge = add_edge!(graph, \"\", parent, node)\n",
    "end\n"
   ]
  },
  {
   "cell_type": "code",
   "execution_count": 4,
   "metadata": {},
   "outputs": [
    {
     "data": {
      "text/plain": [
       "to_graphviz (generic function with 1 method)"
      ]
     },
     "execution_count": 4,
     "metadata": {},
     "output_type": "execute_result"
    }
   ],
   "source": [
    "function to_graphviz(g::Graph)::String\n",
    "    s = \"\"\"digraph G {\n",
    "        node [shape=plaintext, fontname=\\\"Courier New\\\", fontsize=30, shape=none];\n",
    "        edge [fontname=\\\"Courier New\\\", fontsize=12, penwidth=0.5, arrowsize=0.5];\n",
    "    \"\"\"\n",
    "    for node in g.nodes\n",
    "        s *= \"    $(node.id) [label=\\\"$(node.label)\\\"];\\n\"\n",
    "    end\n",
    "    for edge in g.edges\n",
    "        s *= \"    $(edge.source.id) -> $(edge.target.id) [label=\\\"$(edge.label)\\\"];\\n\"\n",
    "    end\n",
    "    s *= \"}\\n\"\n",
    "    return s\n",
    "end"
   ]
  },
  {
   "cell_type": "code",
   "execution_count": 5,
   "metadata": {},
   "outputs": [
    {
     "data": {
      "text/plain": [
       "@plot (macro with 1 method)"
      ]
     },
     "execution_count": 5,
     "metadata": {},
     "output_type": "execute_result"
    }
   ],
   "source": [
    "macro plot(ex)\n",
    "    return ex |> to_graph |> to_graphviz\n",
    "end"
   ]
  },
  {
   "cell_type": "code",
   "execution_count": 6,
   "metadata": {},
   "outputs": [
    {
     "name": "stdout",
     "output_type": "stream",
     "text": [
      "digraph G {\n",
      "    node [shape=plaintext, fontname=\"Courier New\", fontsize=30, shape=none];\n",
      "    edge [fontname=\"Courier New\", fontsize=12, penwidth=0.5, arrowsize=0.5];\n",
      "    1 [label=\"+\"];\n",
      "    2 [label=\"*\"];\n",
      "    3 [label=\"2\"];\n",
      "    4 [label=\"^\"];\n",
      "    5 [label=\"x\"];\n",
      "    6 [label=\"2\"];\n",
      "    7 [label=\"*\"];\n",
      "    8 [label=\"3\"];\n",
      "    9 [label=\"x\"];\n",
      "    10 [label=\"1\"];\n",
      "    1 -> 2 [label=\"\"];\n",
      "    2 -> 3 [label=\"\"];\n",
      "    2 -> 4 [label=\"\"];\n",
      "    4 -> 5 [label=\"\"];\n",
      "    4 -> 6 [label=\"\"];\n",
      "    1 -> 7 [label=\"\"];\n",
      "    7 -> 8 [label=\"\"];\n",
      "    7 -> 9 [label=\"\"];\n",
      "    1 -> 10 [label=\"\"];\n",
      "}\n",
      "\n"
     ]
    }
   ],
   "source": [
    "(@plot 2x^2 + 3x + 1) |> println"
   ]
  },
  {
   "cell_type": "code",
   "execution_count": 7,
   "metadata": {},
   "outputs": [
    {
     "name": "stdout",
     "output_type": "stream",
     "text": [
      "digraph G {\n",
      "    node [shape=plaintext, fontname=\"Courier New\", fontsize=30, shape=none];\n",
      "    edge [fontname=\"Courier New\", fontsize=12, penwidth=0.5, arrowsize=0.5];\n",
      "    1 [label=\"+\"];\n",
      "    2 [label=\"*\"];\n",
      "    3 [label=\"4\"];\n",
      "    4 [label=\"x\"];\n",
      "    5 [label=\"3\"];\n",
      "    1 -> 2 [label=\"\"];\n",
      "    2 -> 3 [label=\"\"];\n",
      "    2 -> 4 [label=\"\"];\n",
      "    1 -> 5 [label=\"\"];\n",
      "}\n",
      "\n"
     ]
    }
   ],
   "source": [
    "(@plot 4x + 3) |> println"
   ]
  },
  {
   "cell_type": "code",
   "execution_count": 22,
   "metadata": {},
   "outputs": [
    {
     "data": {
      "text/plain": [
       "derivative (generic function with 3 methods)"
      ]
     },
     "execution_count": 22,
     "metadata": {},
     "output_type": "execute_result"
    }
   ],
   "source": [
    "function derivative(ex::Expr)::Expr\n",
    "    op = ex.args[1]\n",
    "    if op == :+\n",
    "        return Expr(:call, :+, derivative(ex.args[2]), derivative(ex.args[3]))\n",
    "    elseif op == :*\n",
    "        return Expr(\n",
    "            :call,\n",
    "            :+,\n",
    "            Expr(:call, :*, ex.args[2], derivative(ex.args[3])),\n",
    "            Expr(:call, :*, derivative(ex.args[2]), ex.args[3])\n",
    "        )\n",
    "    else\n",
    "        error(\"not implemented\")\n",
    "    end\n",
    "end\n",
    "\n",
    "derivative(ex::Symbol) = 1\n",
    "\n",
    "derivative(ex::Int64) = 0"
   ]
  },
  {
   "cell_type": "code",
   "execution_count": 30,
   "metadata": {},
   "outputs": [
    {
     "data": {
      "text/plain": [
       ":((x * 1 + 1x) + 0)"
      ]
     },
     "execution_count": 30,
     "metadata": {},
     "output_type": "execute_result"
    }
   ],
   "source": [
    "f = :(x * x + 3)\n",
    "df = derivative(f)"
   ]
  },
  {
   "cell_type": "code",
   "execution_count": 32,
   "metadata": {},
   "outputs": [
    {
     "data": {
      "text/plain": [
       "20"
      ]
     },
     "execution_count": 32,
     "metadata": {},
     "output_type": "execute_result"
    }
   ],
   "source": [
    "x = 10\n",
    "eval(df)"
   ]
  },
  {
   "cell_type": "code",
   "execution_count": 9,
   "metadata": {},
   "outputs": [
    {
     "name": "stdout",
     "output_type": "stream",
     "text": [
      "x * 1 + 1x\n"
     ]
    }
   ],
   "source": [
    "derivative(:(x * x)) |> println"
   ]
  },
  {
   "cell_type": "code",
   "execution_count": 10,
   "metadata": {},
   "outputs": [
    {
     "data": {
      "text/plain": [
       ":(2 * x * x + 3x + 1)"
      ]
     },
     "execution_count": 10,
     "metadata": {},
     "output_type": "execute_result"
    }
   ],
   "source": [
    "f = :(2 * x * x + 3 * x + 1)"
   ]
  },
  {
   "cell_type": "code",
   "execution_count": 11,
   "metadata": {},
   "outputs": [
    {
     "name": "stdout",
     "output_type": "stream",
     "text": [
      "digraph G {\n",
      "    node [shape=plaintext, fontname=\"Courier New\", fontsize=30, shape=none];\n",
      "    edge [fontname=\"Courier New\", fontsize=12, penwidth=0.5, arrowsize=0.5];\n",
      "    1 [label=\"+\"];\n",
      "    2 [label=\"*\"];\n",
      "    3 [label=\"2\"];\n",
      "    4 [label=\"x\"];\n",
      "    5 [label=\"x\"];\n",
      "    6 [label=\"*\"];\n",
      "    7 [label=\"3\"];\n",
      "    8 [label=\"x\"];\n",
      "    9 [label=\"1\"];\n",
      "    1 -> 2 [label=\"\"];\n",
      "    2 -> 3 [label=\"\"];\n",
      "    2 -> 4 [label=\"\"];\n",
      "    2 -> 5 [label=\"\"];\n",
      "    1 -> 6 [label=\"\"];\n",
      "    6 -> 7 [label=\"\"];\n",
      "    6 -> 8 [label=\"\"];\n",
      "    1 -> 9 [label=\"\"];\n",
      "}\n",
      "\n"
     ]
    }
   ],
   "source": [
    "f |> to_graph |> to_graphviz |> println"
   ]
  },
  {
   "cell_type": "code",
   "execution_count": 12,
   "metadata": {},
   "outputs": [
    {
     "name": "stdout",
     "output_type": "stream",
     "text": [
      "Expr\n",
      "  head: Symbol call\n",
      "  args: Array{Any}((4,))\n",
      "    1: Symbol *\n",
      "    2: Int64 2\n",
      "    3: Symbol x\n",
      "    4: Symbol x\n"
     ]
    }
   ],
   "source": [
    "dump(:(2 * x * x))"
   ]
  },
  {
   "cell_type": "code",
   "execution_count": 13,
   "metadata": {},
   "outputs": [
    {
     "data": {
      "text/plain": [
       "derivative2 (generic function with 3 methods)"
      ]
     },
     "execution_count": 13,
     "metadata": {},
     "output_type": "execute_result"
    }
   ],
   "source": [
    "function plus_ex(args)\n",
    "    args = filter(x->x != 0, args)\n",
    "    if length(args) == 0\n",
    "        return 0\n",
    "    elseif length(args) == 1\n",
    "        return args[1]\n",
    "    else\n",
    "        return Expr(:call, :+, args...)\n",
    "    end\n",
    "end\n",
    "\n",
    "function mul_ex(args)\n",
    "    if 0 in args\n",
    "        return 0\n",
    "    end\n",
    "\n",
    "    args = filter(x->x != 1, args)\n",
    "    if length(args) == 0\n",
    "        return 1\n",
    "    elseif length(args) == 1\n",
    "        return args[1]\n",
    "    else\n",
    "        return Expr(:call, :*, args...)\n",
    "    end\n",
    "end\n",
    "\n",
    "\n",
    "function derivative2(ex::Expr)\n",
    "    op = ex.args[1]\n",
    "    if op == :+\n",
    "        return plus_ex(derivative2.(ex.args[2:end]))\n",
    "    elseif op == :*\n",
    "        if length(ex.args) == 3\n",
    "            return plus_ex([\n",
    "                mul_ex([ex.args[2], derivative2(ex.args[3])]),\n",
    "                mul_ex([derivative2(ex.args[2]), ex.args[3]])\n",
    "            ])\n",
    "        else\n",
    "            t = mul_ex(ex.args[3:end])\n",
    "\n",
    "            return plus_ex([\n",
    "                mul_ex([ex.args[2], derivative2(t)]),\n",
    "                mul_ex([derivative2(ex.args[2]), t])\n",
    "            ])\n",
    "        end\n",
    "\n",
    "    else\n",
    "        error(\"not implemented\")\n",
    "    end\n",
    "\n",
    "end\n",
    "\n",
    "derivative2(ex::Symbol) = 1\n",
    "\n",
    "derivative2(ex::Int64) = 0"
   ]
  },
  {
   "cell_type": "code",
   "execution_count": 14,
   "metadata": {},
   "outputs": [
    {
     "data": {
      "text/plain": [
       ":(2 * (x + x) + 3)"
      ]
     },
     "execution_count": 14,
     "metadata": {},
     "output_type": "execute_result"
    }
   ],
   "source": [
    "derivative2(:(2 * x * x + 3 * x + 1)) "
   ]
  },
  {
   "cell_type": "code",
   "execution_count": 15,
   "metadata": {},
   "outputs": [
    {
     "data": {
      "text/plain": [
       "linear_regression_error (generic function with 1 method)"
      ]
     },
     "execution_count": 15,
     "metadata": {},
     "output_type": "execute_result"
    }
   ],
   "source": [
    "x = [1, 2, 3]\n",
    "y = [2, 4, 6]\n",
    "function linear_regression_error(coef)\n",
    "    pred = x * coef\n",
    "    error = 0\n",
    "    for i in eachindex(y)\n",
    "        error += (y[i] - pred[i])^2\n",
    "    end\n",
    "    return error\n",
    "end"
   ]
  },
  {
   "cell_type": "code",
   "execution_count": 16,
   "metadata": {},
   "outputs": [
    {
     "data": {
      "text/plain": [
       "-27.999999474559445"
      ]
     },
     "execution_count": 16,
     "metadata": {},
     "output_type": "execute_result"
    }
   ],
   "source": [
    "function numerical_derivative(f, x::Number; h=1e-8)\n",
    "    return (f(x + h) - f(x)) / h\n",
    "end\n",
    "\n",
    "coef = 1\n",
    "numerical_derivative(linear_regression_error, coef)"
   ]
  },
  {
   "cell_type": "code",
   "execution_count": 17,
   "metadata": {},
   "outputs": [
    {
     "data": {
      "text/plain": [
       "1.9999999949995357"
      ]
     },
     "execution_count": 17,
     "metadata": {},
     "output_type": "execute_result"
    }
   ],
   "source": [
    "coef = 1\n",
    "learning_rate = 0.001\n",
    "loss = []\n",
    "\n",
    "for i in 1:1000\n",
    "    push!(loss, linear_regression_error(coef))\n",
    "    coef -= learning_rate * numerical_derivative(linear_regression_error, coef)\n",
    "end\n",
    "\n",
    "coef"
   ]
  },
  {
   "cell_type": "code",
   "execution_count": 18,
   "metadata": {},
   "outputs": [
    {
     "data": {
      "image/png": "[encoded data removed]",
      "image/svg+xml": [
       "<?xml version=\"1.0\" encoding=\"utf-8\"?>\n",
       "<svg xmlns=\"http://www.w3.org/2000/svg\" xmlns:xlink=\"http://www.w3.org/1999/xlink\" width=\"600\" height=\"400\" viewBox=\"0 0 2400 1600\">\n",
       "<defs>\n",
       "  <clipPath id=\"clip170\">\n",
       "    <rect x=\"0\" y=\"0\" width=\"2400\" height=\"1600\"/>\n",
       "  </clipPath>\n",
       "</defs>\n",
       "<path clip-path=\"url(#clip170)\" d=\"M0 1600 L2400 1600 L2400 8.88178e-14 L0 8.88178e-14  Z\" fill=\"#ffffff\" fill-rule=\"evenodd\" fill-opacity=\"1\"/>\n",
       "<defs>\n",
       "  <clipPath id=\"clip171\">\n",
       "    <rect x=\"480\" y=\"0\" width=\"1681\" height=\"1600\"/>\n",
       "  </clipPath>\n",
       "</defs>\n",
       "<path clip-path=\"url(#clip170)\" d=\"M184.191 1486.45 L2352.76 1486.45 L2352.76 47.2441 L184.191 47.2441  Z\" fill=\"#ffffff\" fill-rule=\"evenodd\" fill-opacity=\"1\"/>\n",
       "<defs>\n",
       "  <clipPath id=\"clip172\">\n",
       "    <rect x=\"184\" y=\"47\" width=\"2170\" height=\"1440\"/>\n",
       "  </clipPath>\n",
       "</defs>\n",
       "<polyline clip-path=\"url(#clip172)\" style=\"stroke:#000000; stroke-linecap:round; stroke-linejoin:round; stroke-width:2; stroke-opacity:0.1; fill:none\" points=\"243.517,1486.45 243.517,47.2441 \"/>\n",
       "<polyline clip-path=\"url(#clip172)\" style=\"stroke:#000000; stroke-linecap:round; stroke-linejoin:round; stroke-width:2; stroke-opacity:0.1; fill:none\" points=\"755.483,1486.45 755.483,47.2441 \"/>\n",
       "<polyline clip-path=\"url(#clip172)\" style=\"stroke:#000000; stroke-linecap:round; stroke-linejoin:round; stroke-width:2; stroke-opacity:0.1; fill:none\" points=\"1267.45,1486.45 1267.45,47.2441 \"/>\n",
       "<polyline clip-path=\"url(#clip172)\" style=\"stroke:#000000; stroke-linecap:round; stroke-linejoin:round; stroke-width:2; stroke-opacity:0.1; fill:none\" points=\"1779.42,1486.45 1779.42,47.2441 \"/>\n",
       "<polyline clip-path=\"url(#clip172)\" style=\"stroke:#000000; stroke-linecap:round; stroke-linejoin:round; stroke-width:2; stroke-opacity:0.1; fill:none\" points=\"2291.38,1486.45 2291.38,47.2441 \"/>\n",
       "<polyline clip-path=\"url(#clip170)\" style=\"stroke:#000000; stroke-linecap:round; stroke-linejoin:round; stroke-width:4; stroke-opacity:1; fill:none\" points=\"184.191,1486.45 2352.76,1486.45 \"/>\n",
       "<polyline clip-path=\"url(#clip170)\" style=\"stroke:#000000; stroke-linecap:round; stroke-linejoin:round; stroke-width:4; stroke-opacity:1; fill:none\" points=\"243.517,1486.45 243.517,1467.55 \"/>\n",
       "<polyline clip-path=\"url(#clip170)\" style=\"stroke:#000000; stroke-linecap:round; stroke-linejoin:round; stroke-width:4; stroke-opacity:1; fill:none\" points=\"755.483,1486.45 755.483,1467.55 \"/>\n",
       "<polyline clip-path=\"url(#clip170)\" style=\"stroke:#000000; stroke-linecap:round; stroke-linejoin:round; stroke-width:4; stroke-opacity:1; fill:none\" points=\"1267.45,1486.45 1267.45,1467.55 \"/>\n",
       "<polyline clip-path=\"url(#clip170)\" style=\"stroke:#000000; stroke-linecap:round; stroke-linejoin:round; stroke-width:4; stroke-opacity:1; fill:none\" points=\"1779.42,1486.45 1779.42,1467.55 \"/>\n",
       "<polyline clip-path=\"url(#clip170)\" style=\"stroke:#000000; stroke-linecap:round; stroke-linejoin:round; stroke-width:4; stroke-opacity:1; fill:none\" points=\"2291.38,1486.45 2291.38,1467.55 \"/>\n",
       "<path clip-path=\"url(#clip170)\" d=\"M243.517 1517.37 Q239.906 1517.37 238.078 1520.93 Q236.272 1524.47 236.272 1531.6 Q236.272 1538.71 238.078 1542.27 Q239.906 1545.82 243.517 1545.82 Q247.152 1545.82 248.957 1542.27 Q250.786 1538.71 250.786 1531.6 Q250.786 1524.47 248.957 1520.93 Q247.152 1517.37 243.517 1517.37 M243.517 1513.66 Q249.327 1513.66 252.383 1518.27 Q255.462 1522.85 255.462 1531.6 Q255.462 1540.33 252.383 1544.94 Q249.327 1549.52 243.517 1549.52 Q237.707 1549.52 234.628 1544.94 Q231.573 1540.33 231.573 1531.6 Q231.573 1522.85 234.628 1518.27 Q237.707 1513.66 243.517 1513.66 Z\" fill=\"#000000\" fill-rule=\"nonzero\" fill-opacity=\"1\" /><path clip-path=\"url(#clip170)\" d=\"M719.176 1544.91 L735.495 1544.91 L735.495 1548.85 L713.551 1548.85 L713.551 1544.91 Q716.213 1542.16 720.796 1537.53 Q725.402 1532.88 726.583 1531.53 Q728.828 1529.01 729.708 1527.27 Q730.611 1525.51 730.611 1523.82 Q730.611 1521.07 728.666 1519.33 Q726.745 1517.6 723.643 1517.6 Q721.444 1517.6 718.99 1518.36 Q716.56 1519.13 713.782 1520.68 L713.782 1515.95 Q716.606 1514.82 719.06 1514.24 Q721.514 1513.66 723.551 1513.66 Q728.921 1513.66 732.115 1516.35 Q735.31 1519.03 735.31 1523.52 Q735.31 1525.65 734.5 1527.57 Q733.713 1529.47 731.606 1532.07 Q731.027 1532.74 727.926 1535.95 Q724.824 1539.15 719.176 1544.91 Z\" fill=\"#000000\" fill-rule=\"nonzero\" fill-opacity=\"1\" /><path clip-path=\"url(#clip170)\" d=\"M745.356 1514.29 L763.712 1514.29 L763.712 1518.22 L749.638 1518.22 L749.638 1526.7 Q750.657 1526.35 751.675 1526.19 Q752.694 1526 753.713 1526 Q759.5 1526 762.879 1529.17 Q766.259 1532.34 766.259 1537.76 Q766.259 1543.34 762.787 1546.44 Q759.314 1549.52 752.995 1549.52 Q750.819 1549.52 748.55 1549.15 Q746.305 1548.78 743.898 1548.04 L743.898 1543.34 Q745.981 1544.47 748.203 1545.03 Q750.425 1545.58 752.902 1545.58 Q756.907 1545.58 759.245 1543.48 Q761.583 1541.37 761.583 1537.76 Q761.583 1534.15 759.245 1532.04 Q756.907 1529.94 752.902 1529.94 Q751.027 1529.94 749.152 1530.35 Q747.301 1530.77 745.356 1531.65 L745.356 1514.29 Z\" fill=\"#000000\" fill-rule=\"nonzero\" fill-opacity=\"1\" /><path clip-path=\"url(#clip170)\" d=\"M785.472 1517.37 Q781.861 1517.37 780.032 1520.93 Q778.226 1524.47 778.226 1531.6 Q778.226 1538.71 780.032 1542.27 Q781.861 1545.82 785.472 1545.82 Q789.106 1545.82 790.911 1542.27 Q792.74 1538.71 792.74 1531.6 Q792.74 1524.47 790.911 1520.93 Q789.106 1517.37 785.472 1517.37 M785.472 1513.66 Q791.282 1513.66 794.337 1518.27 Q797.416 1522.85 797.416 1531.6 Q797.416 1540.33 794.337 1544.94 Q791.282 1549.52 785.472 1549.52 Q779.661 1549.52 776.583 1544.94 Q773.527 1540.33 773.527 1531.6 Q773.527 1522.85 776.583 1518.27 Q779.661 1513.66 785.472 1513.66 Z\" fill=\"#000000\" fill-rule=\"nonzero\" fill-opacity=\"1\" /><path clip-path=\"url(#clip170)\" d=\"M1227.07 1514.29 L1245.42 1514.29 L1245.42 1518.22 L1231.35 1518.22 L1231.35 1526.7 Q1232.37 1526.35 1233.39 1526.19 Q1234.41 1526 1235.42 1526 Q1241.21 1526 1244.59 1529.17 Q1247.97 1532.34 1247.97 1537.76 Q1247.97 1543.34 1244.5 1546.44 Q1241.03 1549.52 1234.71 1549.52 Q1232.53 1549.52 1230.26 1549.15 Q1228.02 1548.78 1225.61 1548.04 L1225.61 1543.34 Q1227.69 1544.47 1229.91 1545.03 Q1232.14 1545.58 1234.61 1545.58 Q1238.62 1545.58 1240.96 1543.48 Q1243.29 1541.37 1243.29 1537.76 Q1243.29 1534.15 1240.96 1532.04 Q1238.62 1529.94 1234.61 1529.94 Q1232.74 1529.94 1230.86 1530.35 Q1229.01 1530.77 1227.07 1531.65 L1227.07 1514.29 Z\" fill=\"#000000\" fill-rule=\"nonzero\" fill-opacity=\"1\" /><path clip-path=\"url(#clip170)\" d=\"M1267.18 1517.37 Q1263.57 1517.37 1261.74 1520.93 Q1259.94 1524.47 1259.94 1531.6 Q1259.94 1538.71 1261.74 1542.27 Q1263.57 1545.82 1267.18 1545.82 Q1270.82 1545.82 1272.62 1542.27 Q1274.45 1538.71 1274.45 1531.6 Q1274.45 1524.47 1272.62 1520.93 Q1270.82 1517.37 1267.18 1517.37 M1267.18 1513.66 Q1272.99 1513.66 1276.05 1518.27 Q1279.13 1522.85 1279.13 1531.6 Q1279.13 1540.33 1276.05 1544.94 Q1272.99 1549.52 1267.18 1549.52 Q1261.37 1549.52 1258.29 1544.94 Q1255.24 1540.33 1255.24 1531.6 Q1255.24 1522.85 1258.29 1518.27 Q1261.37 1513.66 1267.18 1513.66 Z\" fill=\"#000000\" fill-rule=\"nonzero\" fill-opacity=\"1\" /><path clip-path=\"url(#clip170)\" d=\"M1297.35 1517.37 Q1293.73 1517.37 1291.91 1520.93 Q1290.1 1524.47 1290.1 1531.6 Q1290.1 1538.71 1291.91 1542.27 Q1293.73 1545.82 1297.35 1545.82 Q1300.98 1545.82 1302.78 1542.27 Q1304.61 1538.71 1304.61 1531.6 Q1304.61 1524.47 1302.78 1520.93 Q1300.98 1517.37 1297.35 1517.37 M1297.35 1513.66 Q1303.16 1513.66 1306.21 1518.27 Q1309.29 1522.85 1309.29 1531.6 Q1309.29 1540.33 1306.21 1544.94 Q1303.16 1549.52 1297.35 1549.52 Q1291.53 1549.52 1288.46 1544.94 Q1285.4 1540.33 1285.4 1531.6 Q1285.4 1522.85 1288.46 1518.27 Q1291.53 1513.66 1297.35 1513.66 Z\" fill=\"#000000\" fill-rule=\"nonzero\" fill-opacity=\"1\" /><path clip-path=\"url(#clip170)\" d=\"M1737.69 1514.29 L1759.91 1514.29 L1759.91 1516.28 L1747.37 1548.85 L1742.48 1548.85 L1754.29 1518.22 L1737.69 1518.22 L1737.69 1514.29 Z\" fill=\"#000000\" fill-rule=\"nonzero\" fill-opacity=\"1\" /><path clip-path=\"url(#clip170)\" d=\"M1769.08 1514.29 L1787.44 1514.29 L1787.44 1518.22 L1773.36 1518.22 L1773.36 1526.7 Q1774.38 1526.35 1775.4 1526.19 Q1776.42 1526 1777.44 1526 Q1783.22 1526 1786.6 1529.17 Q1789.98 1532.34 1789.98 1537.76 Q1789.98 1543.34 1786.51 1546.44 Q1783.04 1549.52 1776.72 1549.52 Q1774.54 1549.52 1772.27 1549.15 Q1770.03 1548.78 1767.62 1548.04 L1767.62 1543.34 Q1769.7 1544.47 1771.93 1545.03 Q1774.15 1545.58 1776.63 1545.58 Q1780.63 1545.58 1782.97 1543.48 Q1785.31 1541.37 1785.31 1537.76 Q1785.31 1534.15 1782.97 1532.04 Q1780.63 1529.94 1776.63 1529.94 Q1774.75 1529.94 1772.88 1530.35 Q1771.02 1530.77 1769.08 1531.65 L1769.08 1514.29 Z\" fill=\"#000000\" fill-rule=\"nonzero\" fill-opacity=\"1\" /><path clip-path=\"url(#clip170)\" d=\"M1809.2 1517.37 Q1805.58 1517.37 1803.76 1520.93 Q1801.95 1524.47 1801.95 1531.6 Q1801.95 1538.71 1803.76 1542.27 Q1805.58 1545.82 1809.2 1545.82 Q1812.83 1545.82 1814.64 1542.27 Q1816.46 1538.71 1816.46 1531.6 Q1816.46 1524.47 1814.64 1520.93 Q1812.83 1517.37 1809.2 1517.37 M1809.2 1513.66 Q1815.01 1513.66 1818.06 1518.27 Q1821.14 1522.85 1821.14 1531.6 Q1821.14 1540.33 1818.06 1544.94 Q1815.01 1549.52 1809.2 1549.52 Q1803.39 1549.52 1800.31 1544.94 Q1797.25 1540.33 1797.25 1531.6 Q1797.25 1522.85 1800.31 1518.27 Q1803.39 1513.66 1809.2 1513.66 Z\" fill=\"#000000\" fill-rule=\"nonzero\" fill-opacity=\"1\" /><path clip-path=\"url(#clip170)\" d=\"M2235.91 1544.91 L2243.55 1544.91 L2243.55 1518.55 L2235.24 1520.21 L2235.24 1515.95 L2243.5 1514.29 L2248.18 1514.29 L2248.18 1544.91 L2255.81 1544.91 L2255.81 1548.85 L2235.91 1548.85 L2235.91 1544.91 Z\" fill=\"#000000\" fill-rule=\"nonzero\" fill-opacity=\"1\" /><path clip-path=\"url(#clip170)\" d=\"M2275.26 1517.37 Q2271.65 1517.37 2269.82 1520.93 Q2268.01 1524.47 2268.01 1531.6 Q2268.01 1538.71 2269.82 1542.27 Q2271.65 1545.82 2275.26 1545.82 Q2278.89 1545.82 2280.7 1542.27 Q2282.53 1538.71 2282.53 1531.6 Q2282.53 1524.47 2280.7 1520.93 Q2278.89 1517.37 2275.26 1517.37 M2275.26 1513.66 Q2281.07 1513.66 2284.12 1518.27 Q2287.2 1522.85 2287.2 1531.6 Q2287.2 1540.33 2284.12 1544.94 Q2281.07 1549.52 2275.26 1549.52 Q2269.45 1549.52 2266.37 1544.94 Q2263.31 1540.33 2263.31 1531.6 Q2263.31 1522.85 2266.37 1518.27 Q2269.45 1513.66 2275.26 1513.66 Z\" fill=\"#000000\" fill-rule=\"nonzero\" fill-opacity=\"1\" /><path clip-path=\"url(#clip170)\" d=\"M2305.42 1517.37 Q2301.81 1517.37 2299.98 1520.93 Q2298.18 1524.47 2298.18 1531.6 Q2298.18 1538.71 2299.98 1542.27 Q2301.81 1545.82 2305.42 1545.82 Q2309.05 1545.82 2310.86 1542.27 Q2312.69 1538.71 2312.69 1531.6 Q2312.69 1524.47 2310.86 1520.93 Q2309.05 1517.37 2305.42 1517.37 M2305.42 1513.66 Q2311.23 1513.66 2314.29 1518.27 Q2317.37 1522.85 2317.37 1531.6 Q2317.37 1540.33 2314.29 1544.94 Q2311.23 1549.52 2305.42 1549.52 Q2299.61 1549.52 2296.53 1544.94 Q2293.48 1540.33 2293.48 1531.6 Q2293.48 1522.85 2296.53 1518.27 Q2299.61 1513.66 2305.42 1513.66 Z\" fill=\"#000000\" fill-rule=\"nonzero\" fill-opacity=\"1\" /><path clip-path=\"url(#clip170)\" d=\"M2335.58 1517.37 Q2331.97 1517.37 2330.14 1520.93 Q2328.34 1524.47 2328.34 1531.6 Q2328.34 1538.71 2330.14 1542.27 Q2331.97 1545.82 2335.58 1545.82 Q2339.22 1545.82 2341.02 1542.27 Q2342.85 1538.71 2342.85 1531.6 Q2342.85 1524.47 2341.02 1520.93 Q2339.22 1517.37 2335.58 1517.37 M2335.58 1513.66 Q2341.39 1513.66 2344.45 1518.27 Q2347.53 1522.85 2347.53 1531.6 Q2347.53 1540.33 2344.45 1544.94 Q2341.39 1549.52 2335.58 1549.52 Q2329.77 1549.52 2326.69 1544.94 Q2323.64 1540.33 2323.64 1531.6 Q2323.64 1522.85 2326.69 1518.27 Q2329.77 1513.66 2335.58 1513.66 Z\" fill=\"#000000\" fill-rule=\"nonzero\" fill-opacity=\"1\" /><polyline clip-path=\"url(#clip172)\" style=\"stroke:#000000; stroke-linecap:round; stroke-linejoin:round; stroke-width:2; stroke-opacity:0.1; fill:none\" points=\"184.191,1445.72 2352.76,1445.72 \"/>\n",
       "<polyline clip-path=\"url(#clip172)\" style=\"stroke:#000000; stroke-linecap:round; stroke-linejoin:round; stroke-width:2; stroke-opacity:0.1; fill:none\" points=\"184.191,1203.26 2352.76,1203.26 \"/>\n",
       "<polyline clip-path=\"url(#clip172)\" style=\"stroke:#000000; stroke-linecap:round; stroke-linejoin:round; stroke-width:2; stroke-opacity:0.1; fill:none\" points=\"184.191,960.809 2352.76,960.809 \"/>\n",
       "<polyline clip-path=\"url(#clip172)\" style=\"stroke:#000000; stroke-linecap:round; stroke-linejoin:round; stroke-width:2; stroke-opacity:0.1; fill:none\" points=\"184.191,718.355 2352.76,718.355 \"/>\n",
       "<polyline clip-path=\"url(#clip172)\" style=\"stroke:#000000; stroke-linecap:round; stroke-linejoin:round; stroke-width:2; stroke-opacity:0.1; fill:none\" points=\"184.191,475.902 2352.76,475.902 \"/>\n",
       "<polyline clip-path=\"url(#clip172)\" style=\"stroke:#000000; stroke-linecap:round; stroke-linejoin:round; stroke-width:2; stroke-opacity:0.1; fill:none\" points=\"184.191,233.448 2352.76,233.448 \"/>\n",
       "<polyline clip-path=\"url(#clip170)\" style=\"stroke:#000000; stroke-linecap:round; stroke-linejoin:round; stroke-width:4; stroke-opacity:1; fill:none\" points=\"184.191,1486.45 184.191,47.2441 \"/>\n",
       "<polyline clip-path=\"url(#clip170)\" style=\"stroke:#000000; stroke-linecap:round; stroke-linejoin:round; stroke-width:4; stroke-opacity:1; fill:none\" points=\"184.191,1445.72 203.088,1445.72 \"/>\n",
       "<polyline clip-path=\"url(#clip170)\" style=\"stroke:#000000; stroke-linecap:round; stroke-linejoin:round; stroke-width:4; stroke-opacity:1; fill:none\" points=\"184.191,1203.26 203.088,1203.26 \"/>\n",
       "<polyline clip-path=\"url(#clip170)\" style=\"stroke:#000000; stroke-linecap:round; stroke-linejoin:round; stroke-width:4; stroke-opacity:1; fill:none\" points=\"184.191,960.809 203.088,960.809 \"/>\n",
       "<polyline clip-path=\"url(#clip170)\" style=\"stroke:#000000; stroke-linecap:round; stroke-linejoin:round; stroke-width:4; stroke-opacity:1; fill:none\" points=\"184.191,718.355 203.088,718.355 \"/>\n",
       "<polyline clip-path=\"url(#clip170)\" style=\"stroke:#000000; stroke-linecap:round; stroke-linejoin:round; stroke-width:4; stroke-opacity:1; fill:none\" points=\"184.191,475.902 203.088,475.902 \"/>\n",
       "<polyline clip-path=\"url(#clip170)\" style=\"stroke:#000000; stroke-linecap:round; stroke-linejoin:round; stroke-width:4; stroke-opacity:1; fill:none\" points=\"184.191,233.448 203.088,233.448 \"/>\n",
       "<path clip-path=\"url(#clip170)\" d=\"M91.0151 1431.51 Q87.404 1431.51 85.5753 1435.08 Q83.7697 1438.62 83.7697 1445.75 Q83.7697 1452.86 85.5753 1456.42 Q87.404 1459.96 91.0151 1459.96 Q94.6493 1459.96 96.4548 1456.42 Q98.2835 1452.86 98.2835 1445.75 Q98.2835 1438.62 96.4548 1435.08 Q94.6493 1431.51 91.0151 1431.51 M91.0151 1427.81 Q96.8252 1427.81 99.8808 1432.42 Q102.959 1437 102.959 1445.75 Q102.959 1454.48 99.8808 1459.08 Q96.8252 1463.67 91.0151 1463.67 Q85.2049 1463.67 82.1262 1459.08 Q79.0707 1454.48 79.0707 1445.75 Q79.0707 1437 82.1262 1432.42 Q85.2049 1427.81 91.0151 1427.81 Z\" fill=\"#000000\" fill-rule=\"nonzero\" fill-opacity=\"1\" /><path clip-path=\"url(#clip170)\" d=\"M111.177 1457.12 L116.061 1457.12 L116.061 1463 L111.177 1463 L111.177 1457.12 Z\" fill=\"#000000\" fill-rule=\"nonzero\" fill-opacity=\"1\" /><path clip-path=\"url(#clip170)\" d=\"M136.246 1431.51 Q132.635 1431.51 130.807 1435.08 Q129.001 1438.62 129.001 1445.75 Q129.001 1452.86 130.807 1456.42 Q132.635 1459.96 136.246 1459.96 Q139.881 1459.96 141.686 1456.42 Q143.515 1452.86 143.515 1445.75 Q143.515 1438.62 141.686 1435.08 Q139.881 1431.51 136.246 1431.51 M136.246 1427.81 Q142.056 1427.81 145.112 1432.42 Q148.191 1437 148.191 1445.75 Q148.191 1454.48 145.112 1459.08 Q142.056 1463.67 136.246 1463.67 Q130.436 1463.67 127.357 1459.08 Q124.302 1454.48 124.302 1445.75 Q124.302 1437 127.357 1432.42 Q130.436 1427.81 136.246 1427.81 Z\" fill=\"#000000\" fill-rule=\"nonzero\" fill-opacity=\"1\" /><path clip-path=\"url(#clip170)\" d=\"M86.0382 1216.61 L102.358 1216.61 L102.358 1220.54 L80.4133 1220.54 L80.4133 1216.61 Q83.0753 1213.85 87.6586 1209.22 Q92.2651 1204.57 93.4456 1203.23 Q95.691 1200.7 96.5706 1198.97 Q97.4734 1197.21 97.4734 1195.52 Q97.4734 1192.76 95.5289 1191.03 Q93.6076 1189.29 90.5058 1189.29 Q88.3067 1189.29 85.8531 1190.06 Q83.4225 1190.82 80.6447 1192.37 L80.6447 1187.65 Q83.4688 1186.51 85.9225 1185.94 Q88.3762 1185.36 90.4132 1185.36 Q95.7836 1185.36 98.978 1188.04 Q102.172 1190.73 102.172 1195.22 Q102.172 1197.35 101.362 1199.27 Q100.575 1201.17 98.4687 1203.76 Q97.89 1204.43 94.7882 1207.65 Q91.6864 1210.84 86.0382 1216.61 Z\" fill=\"#000000\" fill-rule=\"nonzero\" fill-opacity=\"1\" /><path clip-path=\"url(#clip170)\" d=\"M112.172 1214.66 L117.057 1214.66 L117.057 1220.54 L112.172 1220.54 L112.172 1214.66 Z\" fill=\"#000000\" fill-rule=\"nonzero\" fill-opacity=\"1\" /><path clip-path=\"url(#clip170)\" d=\"M127.288 1185.98 L145.644 1185.98 L145.644 1189.92 L131.57 1189.92 L131.57 1198.39 Q132.589 1198.04 133.607 1197.88 Q134.626 1197.7 135.644 1197.7 Q141.431 1197.7 144.811 1200.87 Q148.191 1204.04 148.191 1209.45 Q148.191 1215.03 144.718 1218.13 Q141.246 1221.21 134.927 1221.21 Q132.751 1221.21 130.482 1220.84 Q128.237 1220.47 125.83 1219.73 L125.83 1215.03 Q127.913 1216.17 130.135 1216.72 Q132.357 1217.28 134.834 1217.28 Q138.839 1217.28 141.177 1215.17 Q143.515 1213.07 143.515 1209.45 Q143.515 1205.84 141.177 1203.74 Q138.839 1201.63 134.834 1201.63 Q132.959 1201.63 131.084 1202.05 Q129.232 1202.46 127.288 1203.34 L127.288 1185.98 Z\" fill=\"#000000\" fill-rule=\"nonzero\" fill-opacity=\"1\" /><path clip-path=\"url(#clip170)\" d=\"M81.0614 943.529 L99.4178 943.529 L99.4178 947.464 L85.3438 947.464 L85.3438 955.936 Q86.3623 955.589 87.3808 955.427 Q88.3993 955.242 89.4178 955.242 Q95.2049 955.242 98.5845 958.413 Q101.964 961.584 101.964 967.001 Q101.964 972.58 98.4919 975.681 Q95.0197 978.76 88.7003 978.76 Q86.5243 978.76 84.2558 978.39 Q82.0105 978.019 79.6031 977.279 L79.6031 972.58 Q81.6864 973.714 83.9086 974.269 Q86.1308 974.825 88.6077 974.825 Q92.6123 974.825 94.9502 972.718 Q97.2882 970.612 97.2882 967.001 Q97.2882 963.39 94.9502 961.283 Q92.6123 959.177 88.6077 959.177 Q86.7327 959.177 84.8577 959.593 Q83.0058 960.01 81.0614 960.89 L81.0614 943.529 Z\" fill=\"#000000\" fill-rule=\"nonzero\" fill-opacity=\"1\" /><path clip-path=\"url(#clip170)\" d=\"M111.177 972.209 L116.061 972.209 L116.061 978.089 L111.177 978.089 L111.177 972.209 Z\" fill=\"#000000\" fill-rule=\"nonzero\" fill-opacity=\"1\" /><path clip-path=\"url(#clip170)\" d=\"M136.246 946.607 Q132.635 946.607 130.807 950.172 Q129.001 953.714 129.001 960.843 Q129.001 967.95 130.807 971.515 Q132.635 975.056 136.246 975.056 Q139.881 975.056 141.686 971.515 Q143.515 967.95 143.515 960.843 Q143.515 953.714 141.686 950.172 Q139.881 946.607 136.246 946.607 M136.246 942.904 Q142.056 942.904 145.112 947.51 Q148.191 952.094 148.191 960.843 Q148.191 969.57 145.112 974.177 Q142.056 978.76 136.246 978.76 Q130.436 978.76 127.357 974.177 Q124.302 969.57 124.302 960.843 Q124.302 952.094 127.357 947.51 Q130.436 942.904 136.246 942.904 Z\" fill=\"#000000\" fill-rule=\"nonzero\" fill-opacity=\"1\" /><path clip-path=\"url(#clip170)\" d=\"M80.8299 701.075 L103.052 701.075 L103.052 703.066 L90.5058 735.635 L85.6216 735.635 L97.4271 705.01 L80.8299 705.01 L80.8299 701.075 Z\" fill=\"#000000\" fill-rule=\"nonzero\" fill-opacity=\"1\" /><path clip-path=\"url(#clip170)\" d=\"M112.172 729.756 L117.057 729.756 L117.057 735.635 L112.172 735.635 L112.172 729.756 Z\" fill=\"#000000\" fill-rule=\"nonzero\" fill-opacity=\"1\" /><path clip-path=\"url(#clip170)\" d=\"M127.288 701.075 L145.644 701.075 L145.644 705.01 L131.57 705.01 L131.57 713.483 Q132.589 713.135 133.607 712.973 Q134.626 712.788 135.644 712.788 Q141.431 712.788 144.811 715.959 Q148.191 719.131 148.191 724.547 Q148.191 730.126 144.718 733.228 Q141.246 736.307 134.927 736.307 Q132.751 736.307 130.482 735.936 Q128.237 735.566 125.83 734.825 L125.83 730.126 Q127.913 731.26 130.135 731.816 Q132.357 732.371 134.834 732.371 Q138.839 732.371 141.177 730.265 Q143.515 728.158 143.515 724.547 Q143.515 720.936 141.177 718.83 Q138.839 716.723 134.834 716.723 Q132.959 716.723 131.084 717.14 Q129.232 717.557 127.288 718.436 L127.288 701.075 Z\" fill=\"#000000\" fill-rule=\"nonzero\" fill-opacity=\"1\" /><path clip-path=\"url(#clip170)\" d=\"M51.6634 489.247 L59.3023 489.247 L59.3023 462.881 L50.9921 464.548 L50.9921 460.288 L59.256 458.622 L63.9319 458.622 L63.9319 489.247 L71.5707 489.247 L71.5707 493.182 L51.6634 493.182 L51.6634 489.247 Z\" fill=\"#000000\" fill-rule=\"nonzero\" fill-opacity=\"1\" /><path clip-path=\"url(#clip170)\" d=\"M91.0151 461.701 Q87.404 461.701 85.5753 465.265 Q83.7697 468.807 83.7697 475.937 Q83.7697 483.043 85.5753 486.608 Q87.404 490.149 91.0151 490.149 Q94.6493 490.149 96.4548 486.608 Q98.2835 483.043 98.2835 475.937 Q98.2835 468.807 96.4548 465.265 Q94.6493 461.701 91.0151 461.701 M91.0151 457.997 Q96.8252 457.997 99.8808 462.603 Q102.959 467.187 102.959 475.937 Q102.959 484.663 99.8808 489.27 Q96.8252 493.853 91.0151 493.853 Q85.2049 493.853 82.1262 489.27 Q79.0707 484.663 79.0707 475.937 Q79.0707 467.187 82.1262 462.603 Q85.2049 457.997 91.0151 457.997 Z\" fill=\"#000000\" fill-rule=\"nonzero\" fill-opacity=\"1\" /><path clip-path=\"url(#clip170)\" d=\"M111.177 487.302 L116.061 487.302 L116.061 493.182 L111.177 493.182 L111.177 487.302 Z\" fill=\"#000000\" fill-rule=\"nonzero\" fill-opacity=\"1\" /><path clip-path=\"url(#clip170)\" d=\"M136.246 461.701 Q132.635 461.701 130.807 465.265 Q129.001 468.807 129.001 475.937 Q129.001 483.043 130.807 486.608 Q132.635 490.149 136.246 490.149 Q139.881 490.149 141.686 486.608 Q143.515 483.043 143.515 475.937 Q143.515 468.807 141.686 465.265 Q139.881 461.701 136.246 461.701 M136.246 457.997 Q142.056 457.997 145.112 462.603 Q148.191 467.187 148.191 475.937 Q148.191 484.663 145.112 489.27 Q142.056 493.853 136.246 493.853 Q130.436 493.853 127.357 489.27 Q124.302 484.663 124.302 475.937 Q124.302 467.187 127.357 462.603 Q130.436 457.997 136.246 457.997 Z\" fill=\"#000000\" fill-rule=\"nonzero\" fill-opacity=\"1\" /><path clip-path=\"url(#clip170)\" d=\"M52.6588 246.793 L60.2976 246.793 L60.2976 220.428 L51.9875 222.094 L51.9875 217.835 L60.2513 216.168 L64.9272 216.168 L64.9272 246.793 L72.5661 246.793 L72.5661 250.728 L52.6588 250.728 L52.6588 246.793 Z\" fill=\"#000000\" fill-rule=\"nonzero\" fill-opacity=\"1\" /><path clip-path=\"url(#clip170)\" d=\"M86.0382 246.793 L102.358 246.793 L102.358 250.728 L80.4133 250.728 L80.4133 246.793 Q83.0753 244.039 87.6586 239.409 Q92.2651 234.756 93.4456 233.414 Q95.691 230.891 96.5706 229.154 Q97.4734 227.395 97.4734 225.705 Q97.4734 222.951 95.5289 221.215 Q93.6076 219.479 90.5058 219.479 Q88.3067 219.479 85.8531 220.242 Q83.4225 221.006 80.6447 222.557 L80.6447 217.835 Q83.4688 216.701 85.9225 216.122 Q88.3762 215.543 90.4132 215.543 Q95.7836 215.543 98.978 218.229 Q102.172 220.914 102.172 225.404 Q102.172 227.534 101.362 229.455 Q100.575 231.353 98.4687 233.946 Q97.89 234.617 94.7882 237.835 Q91.6864 241.029 86.0382 246.793 Z\" fill=\"#000000\" fill-rule=\"nonzero\" fill-opacity=\"1\" /><path clip-path=\"url(#clip170)\" d=\"M112.172 244.849 L117.057 244.849 L117.057 250.728 L112.172 250.728 L112.172 244.849 Z\" fill=\"#000000\" fill-rule=\"nonzero\" fill-opacity=\"1\" /><path clip-path=\"url(#clip170)\" d=\"M127.288 216.168 L145.644 216.168 L145.644 220.104 L131.57 220.104 L131.57 228.576 Q132.589 228.228 133.607 228.066 Q134.626 227.881 135.644 227.881 Q141.431 227.881 144.811 231.053 Q148.191 234.224 148.191 239.64 Q148.191 245.219 144.718 248.321 Q141.246 251.4 134.927 251.4 Q132.751 251.4 130.482 251.029 Q128.237 250.659 125.83 249.918 L125.83 245.219 Q127.913 246.353 130.135 246.909 Q132.357 247.464 134.834 247.464 Q138.839 247.464 141.177 245.358 Q143.515 243.252 143.515 239.64 Q143.515 236.029 141.177 233.923 Q138.839 231.816 134.834 231.816 Q132.959 231.816 131.084 232.233 Q129.232 232.65 127.288 233.529 L127.288 216.168 Z\" fill=\"#000000\" fill-rule=\"nonzero\" fill-opacity=\"1\" /><polyline clip-path=\"url(#clip172)\" style=\"stroke:#009af9; stroke-linecap:round; stroke-linejoin:round; stroke-width:4; stroke-opacity:1; fill:none\" points=\"245.565,87.9763 247.613,162.945 249.661,233.775 251.709,300.693 253.757,363.917 255.804,423.649 257.852,480.084 259.9,533.402 261.948,583.776 263.996,631.369 266.044,676.334 268.092,718.816 270.14,758.953 272.187,796.873 274.235,832.7 276.283,866.548 278.331,898.527 280.379,928.741 282.427,957.286 284.475,984.255 286.522,1009.74 288.57,1033.81 290.618,1056.55 292.666,1078.04 294.714,1098.34 296.762,1117.52 298.81,1135.64 300.857,1152.76 302.905,1168.94 304.953,1184.22 307.001,1198.66 309.049,1212.3 311.097,1225.19 313.145,1237.37 315.193,1248.87 317.24,1259.74 319.288,1270.01 321.336,1279.71 323.384,1288.88 325.432,1297.54 327.48,1305.72 329.528,1313.45 331.575,1320.75 333.623,1327.65 335.671,1334.17 337.719,1340.33 339.767,1346.15 341.815,1351.65 343.863,1356.84 345.911,1361.75 347.958,1366.38 350.006,1370.77 352.054,1374.9 354.102,1378.81 356.15,1382.51 358.198,1386 360.246,1389.3 362.293,1392.41 364.341,1395.35 366.389,1398.13 368.437,1400.76 370.485,1403.24 372.533,1405.59 374.581,1407.8 376.628,1409.9 378.676,1411.88 380.724,1413.74 382.772,1415.51 384.82,1417.18 386.868,1418.75 388.916,1420.24 390.964,1421.65 393.011,1422.98 395.059,1424.23 397.107,1425.42 399.155,1426.54 401.203,1427.6 403.251,1428.6 405.299,1429.54 407.346,1430.44 409.394,1431.28 411.442,1432.08 413.49,1432.83 415.538,1433.54 417.586,1434.21 419.634,1434.85 421.681,1435.45 423.729,1436.02 425.777,1436.55 427.825,1437.06 429.873,1437.54 431.921,1437.99 433.969,1438.41 436.017,1438.82 438.064,1439.2 440.112,1439.56 442.16,1439.9 444.208,1440.22 446.256,1440.52 448.304,1440.81 450.352,1441.08 452.399,1441.34 454.447,1441.58 456.495,1441.81 458.543,1442.02 460.591,1442.23 462.639,1442.42 464.687,1442.6 466.734,1442.77 468.782,1442.94 470.83,1443.09 472.878,1443.23 474.926,1443.37 476.974,1443.5 479.022,1443.62 481.07,1443.74 483.117,1443.85 485.165,1443.95 487.213,1444.05 489.261,1444.14 491.309,1444.23 493.357,1444.31 495.405,1444.39 497.452,1444.46 499.5,1444.53 501.548,1444.6 503.596,1444.66 505.644,1444.72 507.692,1444.77 509.74,1444.82 511.788,1444.87 513.835,1444.92 515.883,1444.96 517.931,1445 519.979,1445.04 522.027,1445.08 524.075,1445.12 526.123,1445.15 528.17,1445.18 530.218,1445.21 532.266,1445.24 534.314,1445.26 536.362,1445.29 538.41,1445.31 540.458,1445.33 542.505,1445.36 544.553,1445.38 546.601,1445.39 548.649,1445.41 550.697,1445.43 552.745,1445.44 554.793,1445.46 556.841,1445.47 558.888,1445.49 560.936,1445.5 562.984,1445.51 565.032,1445.52 567.08,1445.53 569.128,1445.54 571.176,1445.55 573.223,1445.56 575.271,1445.57 577.319,1445.58 579.367,1445.59 581.415,1445.59 583.463,1445.6 585.511,1445.61 587.558,1445.61 589.606,1445.62 591.654,1445.62 593.702,1445.63 595.75,1445.63 597.798,1445.64 599.846,1445.64 601.894,1445.65 603.941,1445.65 605.989,1445.65 608.037,1445.66 610.085,1445.66 612.133,1445.66 614.181,1445.67 616.229,1445.67 618.276,1445.67 620.324,1445.67 622.372,1445.68 624.42,1445.68 626.468,1445.68 628.516,1445.68 630.564,1445.68 632.611,1445.69 634.659,1445.69 636.707,1445.69 638.755,1445.69 640.803,1445.69 642.851,1445.69 644.899,1445.69 646.947,1445.7 648.994,1445.7 651.042,1445.7 653.09,1445.7 655.138,1445.7 657.186,1445.7 659.234,1445.7 661.282,1445.7 663.329,1445.7 665.377,1445.7 667.425,1445.7 669.473,1445.71 671.521,1445.71 673.569,1445.71 675.617,1445.71 677.664,1445.71 679.712,1445.71 681.76,1445.71 683.808,1445.71 685.856,1445.71 687.904,1445.71 689.952,1445.71 692,1445.71 694.047,1445.71 696.095,1445.71 698.143,1445.71 700.191,1445.71 702.239,1445.71 704.287,1445.71 706.335,1445.71 708.382,1445.71 710.43,1445.71 712.478,1445.71 714.526,1445.71 716.574,1445.71 718.622,1445.71 720.67,1445.71 722.718,1445.71 724.765,1445.71 726.813,1445.71 728.861,1445.71 730.909,1445.71 732.957,1445.71 735.005,1445.71 737.053,1445.71 739.1,1445.71 741.148,1445.71 743.196,1445.71 745.244,1445.71 747.292,1445.71 749.34,1445.71 751.388,1445.71 753.435,1445.71 755.483,1445.71 757.531,1445.71 759.579,1445.71 761.627,1445.71 763.675,1445.71 765.723,1445.71 767.771,1445.71 769.818,1445.72 771.866,1445.72 773.914,1445.72 775.962,1445.72 778.01,1445.72 780.058,1445.72 782.106,1445.72 784.153,1445.72 786.201,1445.72 788.249,1445.72 790.297,1445.72 792.345,1445.72 794.393,1445.72 796.441,1445.72 798.488,1445.72 800.536,1445.72 802.584,1445.72 804.632,1445.72 806.68,1445.72 808.728,1445.72 810.776,1445.72 812.824,1445.72 814.871,1445.72 816.919,1445.72 818.967,1445.72 821.015,1445.72 823.063,1445.72 825.111,1445.72 827.159,1445.72 829.206,1445.72 831.254,1445.72 833.302,1445.72 835.35,1445.72 837.398,1445.72 839.446,1445.72 841.494,1445.72 843.541,1445.72 845.589,1445.72 847.637,1445.72 849.685,1445.72 851.733,1445.72 853.781,1445.72 855.829,1445.72 857.877,1445.72 859.924,1445.72 861.972,1445.72 864.02,1445.72 866.068,1445.72 868.116,1445.72 870.164,1445.72 872.212,1445.72 874.259,1445.72 876.307,1445.72 878.355,1445.72 880.403,1445.72 882.451,1445.72 884.499,1445.72 886.547,1445.72 888.594,1445.72 890.642,1445.72 892.69,1445.72 894.738,1445.72 896.786,1445.72 898.834,1445.72 900.882,1445.72 902.93,1445.72 904.977,1445.72 907.025,1445.72 909.073,1445.72 911.121,1445.72 913.169,1445.72 915.217,1445.72 917.265,1445.72 919.312,1445.72 921.36,1445.72 923.408,1445.72 925.456,1445.72 927.504,1445.72 929.552,1445.72 931.6,1445.72 933.648,1445.72 935.695,1445.72 937.743,1445.72 939.791,1445.72 941.839,1445.72 943.887,1445.72 945.935,1445.72 947.983,1445.72 950.03,1445.72 952.078,1445.72 954.126,1445.72 956.174,1445.72 958.222,1445.72 960.27,1445.72 962.318,1445.72 964.365,1445.72 966.413,1445.72 968.461,1445.72 970.509,1445.72 972.557,1445.72 974.605,1445.72 976.653,1445.72 978.701,1445.72 980.748,1445.72 982.796,1445.72 984.844,1445.72 986.892,1445.72 988.94,1445.72 990.988,1445.72 993.036,1445.72 995.083,1445.72 997.131,1445.72 999.179,1445.72 1001.23,1445.72 1003.27,1445.72 1005.32,1445.72 1007.37,1445.72 1009.42,1445.72 1011.47,1445.72 1013.51,1445.72 1015.56,1445.72 1017.61,1445.72 1019.66,1445.72 1021.71,1445.72 1023.75,1445.72 1025.8,1445.72 1027.85,1445.72 1029.9,1445.72 1031.94,1445.72 1033.99,1445.72 1036.04,1445.72 1038.09,1445.72 1040.14,1445.72 1042.18,1445.72 1044.23,1445.72 1046.28,1445.72 1048.33,1445.72 1050.38,1445.72 1052.42,1445.72 1054.47,1445.72 1056.52,1445.72 1058.57,1445.72 1060.62,1445.72 1062.66,1445.72 1064.71,1445.72 1066.76,1445.72 1068.81,1445.72 1070.85,1445.72 1072.9,1445.72 1074.95,1445.72 1077,1445.72 1079.05,1445.72 1081.09,1445.72 1083.14,1445.72 1085.19,1445.72 1087.24,1445.72 1089.29,1445.72 1091.33,1445.72 1093.38,1445.72 1095.43,1445.72 1097.48,1445.72 1099.52,1445.72 1101.57,1445.72 1103.62,1445.72 1105.67,1445.72 1107.72,1445.72 1109.76,1445.72 1111.81,1445.72 1113.86,1445.72 1115.91,1445.72 1117.96,1445.72 1120,1445.72 1122.05,1445.72 1124.1,1445.72 1126.15,1445.72 1128.19,1445.72 1130.24,1445.72 1132.29,1445.72 1134.34,1445.72 1136.39,1445.72 1138.43,1445.72 1140.48,1445.72 1142.53,1445.72 1144.58,1445.72 1146.63,1445.72 1148.67,1445.72 1150.72,1445.72 1152.77,1445.72 1154.82,1445.72 1156.86,1445.72 1158.91,1445.72 1160.96,1445.72 1163.01,1445.72 1165.06,1445.72 1167.1,1445.72 1169.15,1445.72 1171.2,1445.72 1173.25,1445.72 1175.3,1445.72 1177.34,1445.72 1179.39,1445.72 1181.44,1445.72 1183.49,1445.72 1185.53,1445.72 1187.58,1445.72 1189.63,1445.72 1191.68,1445.72 1193.73,1445.72 1195.77,1445.72 1197.82,1445.72 1199.87,1445.72 1201.92,1445.72 1203.97,1445.72 1206.01,1445.72 1208.06,1445.72 1210.11,1445.72 1212.16,1445.72 1214.2,1445.72 1216.25,1445.72 1218.3,1445.72 1220.35,1445.72 1222.4,1445.72 1224.44,1445.72 1226.49,1445.72 1228.54,1445.72 1230.59,1445.72 1232.64,1445.72 1234.68,1445.72 1236.73,1445.72 1238.78,1445.72 1240.83,1445.72 1242.87,1445.72 1244.92,1445.72 1246.97,1445.72 1249.02,1445.72 1251.07,1445.72 1253.11,1445.72 1255.16,1445.72 1257.21,1445.72 1259.26,1445.72 1261.31,1445.72 1263.35,1445.72 1265.4,1445.72 1267.45,1445.72 1269.5,1445.72 1271.55,1445.72 1273.59,1445.72 1275.64,1445.72 1277.69,1445.72 1279.74,1445.72 1281.78,1445.72 1283.83,1445.72 1285.88,1445.72 1287.93,1445.72 1289.98,1445.72 1292.02,1445.72 1294.07,1445.72 1296.12,1445.72 1298.17,1445.72 1300.22,1445.72 1302.26,1445.72 1304.31,1445.72 1306.36,1445.72 1308.41,1445.72 1310.45,1445.72 1312.5,1445.72 1314.55,1445.72 1316.6,1445.72 1318.65,1445.72 1320.69,1445.72 1322.74,1445.72 1324.79,1445.72 1326.84,1445.72 1328.89,1445.72 1330.93,1445.72 1332.98,1445.72 1335.03,1445.72 1337.08,1445.72 1339.12,1445.72 1341.17,1445.72 1343.22,1445.72 1345.27,1445.72 1347.32,1445.72 1349.36,1445.72 1351.41,1445.72 1353.46,1445.72 1355.51,1445.72 1357.56,1445.72 1359.6,1445.72 1361.65,1445.72 1363.7,1445.72 1365.75,1445.72 1367.79,1445.72 1369.84,1445.72 1371.89,1445.72 1373.94,1445.72 1375.99,1445.72 1378.03,1445.72 1380.08,1445.72 1382.13,1445.72 1384.18,1445.72 1386.23,1445.72 1388.27,1445.72 1390.32,1445.72 1392.37,1445.72 1394.42,1445.72 1396.46,1445.72 1398.51,1445.72 1400.56,1445.72 1402.61,1445.72 1404.66,1445.72 1406.7,1445.72 1408.75,1445.72 1410.8,1445.72 1412.85,1445.72 1414.9,1445.72 1416.94,1445.72 1418.99,1445.72 1421.04,1445.72 1423.09,1445.72 1425.13,1445.72 1427.18,1445.72 1429.23,1445.72 1431.28,1445.72 1433.33,1445.72 1435.37,1445.72 1437.42,1445.72 1439.47,1445.72 1441.52,1445.72 1443.57,1445.72 1445.61,1445.72 1447.66,1445.72 1449.71,1445.72 1451.76,1445.72 1453.8,1445.72 1455.85,1445.72 1457.9,1445.72 1459.95,1445.72 1462,1445.72 1464.04,1445.72 1466.09,1445.72 1468.14,1445.72 1470.19,1445.72 1472.24,1445.72 1474.28,1445.72 1476.33,1445.72 1478.38,1445.72 1480.43,1445.72 1482.48,1445.72 1484.52,1445.72 1486.57,1445.72 1488.62,1445.72 1490.67,1445.72 1492.71,1445.72 1494.76,1445.72 1496.81,1445.72 1498.86,1445.72 1500.91,1445.72 1502.95,1445.72 1505,1445.72 1507.05,1445.72 1509.1,1445.72 1511.15,1445.72 1513.19,1445.72 1515.24,1445.72 1517.29,1445.72 1519.34,1445.72 1521.38,1445.72 1523.43,1445.72 1525.48,1445.72 1527.53,1445.72 1529.58,1445.72 1531.62,1445.72 1533.67,1445.72 1535.72,1445.72 1537.77,1445.72 1539.82,1445.72 1541.86,1445.72 1543.91,1445.72 1545.96,1445.72 1548.01,1445.72 1550.05,1445.72 1552.1,1445.72 1554.15,1445.72 1556.2,1445.72 1558.25,1445.72 1560.29,1445.72 1562.34,1445.72 1564.39,1445.72 1566.44,1445.72 1568.49,1445.72 1570.53,1445.72 1572.58,1445.72 1574.63,1445.72 1576.68,1445.72 1578.72,1445.72 1580.77,1445.72 1582.82,1445.72 1584.87,1445.72 1586.92,1445.72 1588.96,1445.72 1591.01,1445.72 1593.06,1445.72 1595.11,1445.72 1597.16,1445.72 1599.2,1445.72 1601.25,1445.72 1603.3,1445.72 1605.35,1445.72 1607.39,1445.72 1609.44,1445.72 1611.49,1445.72 1613.54,1445.72 1615.59,1445.72 1617.63,1445.72 1619.68,1445.72 1621.73,1445.72 1623.78,1445.72 1625.83,1445.72 1627.87,1445.72 1629.92,1445.72 1631.97,1445.72 1634.02,1445.72 1636.06,1445.72 1638.11,1445.72 1640.16,1445.72 1642.21,1445.72 1644.26,1445.72 1646.3,1445.72 1648.35,1445.72 1650.4,1445.72 1652.45,1445.72 1654.5,1445.72 1656.54,1445.72 1658.59,1445.72 1660.64,1445.72 1662.69,1445.72 1664.73,1445.72 1666.78,1445.72 1668.83,1445.72 1670.88,1445.72 1672.93,1445.72 1674.97,1445.72 1677.02,1445.72 1679.07,1445.72 1681.12,1445.72 1683.17,1445.72 1685.21,1445.72 1687.26,1445.72 1689.31,1445.72 1691.36,1445.72 1693.41,1445.72 1695.45,1445.72 1697.5,1445.72 1699.55,1445.72 1701.6,1445.72 1703.64,1445.72 1705.69,1445.72 1707.74,1445.72 1709.79,1445.72 1711.84,1445.72 1713.88,1445.72 1715.93,1445.72 1717.98,1445.72 1720.03,1445.72 1722.08,1445.72 1724.12,1445.72 1726.17,1445.72 1728.22,1445.72 1730.27,1445.72 1732.31,1445.72 1734.36,1445.72 1736.41,1445.72 1738.46,1445.72 1740.51,1445.72 1742.55,1445.72 1744.6,1445.72 1746.65,1445.72 1748.7,1445.72 1750.75,1445.72 1752.79,1445.72 1754.84,1445.72 1756.89,1445.72 1758.94,1445.72 1760.98,1445.72 1763.03,1445.72 1765.08,1445.72 1767.13,1445.72 1769.18,1445.72 1771.22,1445.72 1773.27,1445.72 1775.32,1445.72 1777.37,1445.72 1779.42,1445.72 1781.46,1445.72 1783.51,1445.72 1785.56,1445.72 1787.61,1445.72 1789.65,1445.72 1791.7,1445.72 1793.75,1445.72 1795.8,1445.72 1797.85,1445.72 1799.89,1445.72 1801.94,1445.72 1803.99,1445.72 1806.04,1445.72 1808.09,1445.72 1810.13,1445.72 1812.18,1445.72 1814.23,1445.72 1816.28,1445.72 1818.32,1445.72 1820.37,1445.72 1822.42,1445.72 1824.47,1445.72 1826.52,1445.72 1828.56,1445.72 1830.61,1445.72 1832.66,1445.72 1834.71,1445.72 1836.76,1445.72 1838.8,1445.72 1840.85,1445.72 1842.9,1445.72 1844.95,1445.72 1846.99,1445.72 1849.04,1445.72 1851.09,1445.72 1853.14,1445.72 1855.19,1445.72 1857.23,1445.72 1859.28,1445.72 1861.33,1445.72 1863.38,1445.72 1865.43,1445.72 1867.47,1445.72 1869.52,1445.72 1871.57,1445.72 1873.62,1445.72 1875.67,1445.72 1877.71,1445.72 1879.76,1445.72 1881.81,1445.72 1883.86,1445.72 1885.9,1445.72 1887.95,1445.72 1890,1445.72 1892.05,1445.72 1894.1,1445.72 1896.14,1445.72 1898.19,1445.72 1900.24,1445.72 1902.29,1445.72 1904.34,1445.72 1906.38,1445.72 1908.43,1445.72 1910.48,1445.72 1912.53,1445.72 1914.57,1445.72 1916.62,1445.72 1918.67,1445.72 1920.72,1445.72 1922.77,1445.72 1924.81,1445.72 1926.86,1445.72 1928.91,1445.72 1930.96,1445.72 1933.01,1445.72 1935.05,1445.72 1937.1,1445.72 1939.15,1445.72 1941.2,1445.72 1943.24,1445.72 1945.29,1445.72 1947.34,1445.72 1949.39,1445.72 1951.44,1445.72 1953.48,1445.72 1955.53,1445.72 1957.58,1445.72 1959.63,1445.72 1961.68,1445.72 1963.72,1445.72 1965.77,1445.72 1967.82,1445.72 1969.87,1445.72 1971.91,1445.72 1973.96,1445.72 1976.01,1445.72 1978.06,1445.72 1980.11,1445.72 1982.15,1445.72 1984.2,1445.72 1986.25,1445.72 1988.3,1445.72 1990.35,1445.72 1992.39,1445.72 1994.44,1445.72 1996.49,1445.72 1998.54,1445.72 2000.58,1445.72 2002.63,1445.72 2004.68,1445.72 2006.73,1445.72 2008.78,1445.72 2010.82,1445.72 2012.87,1445.72 2014.92,1445.72 2016.97,1445.72 2019.02,1445.72 2021.06,1445.72 2023.11,1445.72 2025.16,1445.72 2027.21,1445.72 2029.25,1445.72 2031.3,1445.72 2033.35,1445.72 2035.4,1445.72 2037.45,1445.72 2039.49,1445.72 2041.54,1445.72 2043.59,1445.72 2045.64,1445.72 2047.69,1445.72 2049.73,1445.72 2051.78,1445.72 2053.83,1445.72 2055.88,1445.72 2057.92,1445.72 2059.97,1445.72 2062.02,1445.72 2064.07,1445.72 2066.12,1445.72 2068.16,1445.72 2070.21,1445.72 2072.26,1445.72 2074.31,1445.72 2076.36,1445.72 2078.4,1445.72 2080.45,1445.72 2082.5,1445.72 2084.55,1445.72 2086.6,1445.72 2088.64,1445.72 2090.69,1445.72 2092.74,1445.72 2094.79,1445.72 2096.83,1445.72 2098.88,1445.72 2100.93,1445.72 2102.98,1445.72 2105.03,1445.72 2107.07,1445.72 2109.12,1445.72 2111.17,1445.72 2113.22,1445.72 2115.27,1445.72 2117.31,1445.72 2119.36,1445.72 2121.41,1445.72 2123.46,1445.72 2125.5,1445.72 2127.55,1445.72 2129.6,1445.72 2131.65,1445.72 2133.7,1445.72 2135.74,1445.72 2137.79,1445.72 2139.84,1445.72 2141.89,1445.72 2143.94,1445.72 2145.98,1445.72 2148.03,1445.72 2150.08,1445.72 2152.13,1445.72 2154.17,1445.72 2156.22,1445.72 2158.27,1445.72 2160.32,1445.72 2162.37,1445.72 2164.41,1445.72 2166.46,1445.72 2168.51,1445.72 2170.56,1445.72 2172.61,1445.72 2174.65,1445.72 2176.7,1445.72 2178.75,1445.72 2180.8,1445.72 2182.84,1445.72 2184.89,1445.72 2186.94,1445.72 2188.99,1445.72 2191.04,1445.72 2193.08,1445.72 2195.13,1445.72 2197.18,1445.72 2199.23,1445.72 2201.28,1445.72 2203.32,1445.72 2205.37,1445.72 2207.42,1445.72 2209.47,1445.72 2211.51,1445.72 2213.56,1445.72 2215.61,1445.72 2217.66,1445.72 2219.71,1445.72 2221.75,1445.72 2223.8,1445.72 2225.85,1445.72 2227.9,1445.72 2229.95,1445.72 2231.99,1445.72 2234.04,1445.72 2236.09,1445.72 2238.14,1445.72 2240.18,1445.72 2242.23,1445.72 2244.28,1445.72 2246.33,1445.72 2248.38,1445.72 2250.42,1445.72 2252.47,1445.72 2254.52,1445.72 2256.57,1445.72 2258.62,1445.72 2260.66,1445.72 2262.71,1445.72 2264.76,1445.72 2266.81,1445.72 2268.85,1445.72 2270.9,1445.72 2272.95,1445.72 2275,1445.72 2277.05,1445.72 2279.09,1445.72 2281.14,1445.72 2283.19,1445.72 2285.24,1445.72 2287.29,1445.72 2289.33,1445.72 2291.38,1445.72 \"/>\n",
       "<path clip-path=\"url(#clip170)\" d=\"M2011.18 198.898 L2280.47 198.898 L2280.47 95.2176 L2011.18 95.2176  Z\" fill=\"#ffffff\" fill-rule=\"evenodd\" fill-opacity=\"1\"/>\n",
       "<polyline clip-path=\"url(#clip170)\" style=\"stroke:#000000; stroke-linecap:round; stroke-linejoin:round; stroke-width:4; stroke-opacity:1; fill:none\" points=\"2011.18,198.898 2280.47,198.898 2280.47,95.2176 2011.18,95.2176 2011.18,198.898 \"/>\n",
       "<polyline clip-path=\"url(#clip170)\" style=\"stroke:#009af9; stroke-linecap:round; stroke-linejoin:round; stroke-width:4; stroke-opacity:1; fill:none\" points=\"2035.28,147.058 2179.85,147.058 \"/>\n",
       "<path clip-path=\"url(#clip170)\" d=\"M2217.79 166.745 Q2215.98 171.375 2214.27 172.787 Q2212.56 174.199 2209.69 174.199 L2206.28 174.199 L2206.28 170.634 L2208.78 170.634 Q2210.54 170.634 2211.51 169.8 Q2212.49 168.967 2213.67 165.865 L2214.43 163.921 L2203.94 138.412 L2208.46 138.412 L2216.56 158.689 L2224.66 138.412 L2229.18 138.412 L2217.79 166.745 Z\" fill=\"#000000\" fill-rule=\"nonzero\" fill-opacity=\"1\" /><path clip-path=\"url(#clip170)\" d=\"M2236.47 160.402 L2244.11 160.402 L2244.11 134.037 L2235.8 135.703 L2235.8 131.444 L2244.06 129.778 L2248.74 129.778 L2248.74 160.402 L2256.38 160.402 L2256.38 164.338 L2236.47 164.338 L2236.47 160.402 Z\" fill=\"#000000\" fill-rule=\"nonzero\" fill-opacity=\"1\" /></svg>\n"
      ],
      "text/html": [
       "<?xml version=\"1.0\" encoding=\"utf-8\"?>\n",
       "<svg xmlns=\"http://www.w3.org/2000/svg\" xmlns:xlink=\"http://www.w3.org/1999/xlink\" width=\"600\" height=\"400\" viewBox=\"0 0 2400 1600\">\n",
       "<defs>\n",
       "  <clipPath id=\"clip220\">\n",
       "    <rect x=\"0\" y=\"0\" width=\"2400\" height=\"1600\"/>\n",
       "  </clipPath>\n",
       "</defs>\n",
       "<path clip-path=\"url(#clip220)\" d=\"M0 1600 L2400 1600 L2400 8.88178e-14 L0 8.88178e-14  Z\" fill=\"#ffffff\" fill-rule=\"evenodd\" fill-opacity=\"1\"/>\n",
       "<defs>\n",
       "  <clipPath id=\"clip221\">\n",
       "    <rect x=\"480\" y=\"0\" width=\"1681\" height=\"1600\"/>\n",
       "  </clipPath>\n",
       "</defs>\n",
       "<path clip-path=\"url(#clip220)\" d=\"M184.191 1486.45 L2352.76 1486.45 L2352.76 47.2441 L184.191 47.2441  Z\" fill=\"#ffffff\" fill-rule=\"evenodd\" fill-opacity=\"1\"/>\n",
       "<defs>\n",
       "  <clipPath id=\"clip222\">\n",
       "    <rect x=\"184\" y=\"47\" width=\"2170\" height=\"1440\"/>\n",
       "  </clipPath>\n",
       "</defs>\n",
       "<polyline clip-path=\"url(#clip222)\" style=\"stroke:#000000; stroke-linecap:round; stroke-linejoin:round; stroke-width:2; stroke-opacity:0.1; fill:none\" points=\"243.517,1486.45 243.517,47.2441 \"/>\n",
       "<polyline clip-path=\"url(#clip222)\" style=\"stroke:#000000; stroke-linecap:round; stroke-linejoin:round; stroke-width:2; stroke-opacity:0.1; fill:none\" points=\"755.483,1486.45 755.483,47.2441 \"/>\n",
       "<polyline clip-path=\"url(#clip222)\" style=\"stroke:#000000; stroke-linecap:round; stroke-linejoin:round; stroke-width:2; stroke-opacity:0.1; fill:none\" points=\"1267.45,1486.45 1267.45,47.2441 \"/>\n",
       "<polyline clip-path=\"url(#clip222)\" style=\"stroke:#000000; stroke-linecap:round; stroke-linejoin:round; stroke-width:2; stroke-opacity:0.1; fill:none\" points=\"1779.42,1486.45 1779.42,47.2441 \"/>\n",
       "<polyline clip-path=\"url(#clip222)\" style=\"stroke:#000000; stroke-linecap:round; stroke-linejoin:round; stroke-width:2; stroke-opacity:0.1; fill:none\" points=\"2291.38,1486.45 2291.38,47.2441 \"/>\n",
       "<polyline clip-path=\"url(#clip220)\" style=\"stroke:#000000; stroke-linecap:round; stroke-linejoin:round; stroke-width:4; stroke-opacity:1; fill:none\" points=\"184.191,1486.45 2352.76,1486.45 \"/>\n",
       "<polyline clip-path=\"url(#clip220)\" style=\"stroke:#000000; stroke-linecap:round; stroke-linejoin:round; stroke-width:4; stroke-opacity:1; fill:none\" points=\"243.517,1486.45 243.517,1467.55 \"/>\n",
       "<polyline clip-path=\"url(#clip220)\" style=\"stroke:#000000; stroke-linecap:round; stroke-linejoin:round; stroke-width:4; stroke-opacity:1; fill:none\" points=\"755.483,1486.45 755.483,1467.55 \"/>\n",
       "<polyline clip-path=\"url(#clip220)\" style=\"stroke:#000000; stroke-linecap:round; stroke-linejoin:round; stroke-width:4; stroke-opacity:1; fill:none\" points=\"1267.45,1486.45 1267.45,1467.55 \"/>\n",
       "<polyline clip-path=\"url(#clip220)\" style=\"stroke:#000000; stroke-linecap:round; stroke-linejoin:round; stroke-width:4; stroke-opacity:1; fill:none\" points=\"1779.42,1486.45 1779.42,1467.55 \"/>\n",
       "<polyline clip-path=\"url(#clip220)\" style=\"stroke:#000000; stroke-linecap:round; stroke-linejoin:round; stroke-width:4; stroke-opacity:1; fill:none\" points=\"2291.38,1486.45 2291.38,1467.55 \"/>\n",
       "<path clip-path=\"url(#clip220)\" d=\"M243.517 1517.37 Q239.906 1517.37 238.078 1520.93 Q236.272 1524.47 236.272 1531.6 Q236.272 1538.71 238.078 1542.27 Q239.906 1545.82 243.517 1545.82 Q247.152 1545.82 248.957 1542.27 Q250.786 1538.71 250.786 1531.6 Q250.786 1524.47 248.957 1520.93 Q247.152 1517.37 243.517 1517.37 M243.517 1513.66 Q249.327 1513.66 252.383 1518.27 Q255.462 1522.85 255.462 1531.6 Q255.462 1540.33 252.383 1544.94 Q249.327 1549.52 243.517 1549.52 Q237.707 1549.52 234.628 1544.94 Q231.573 1540.33 231.573 1531.6 Q231.573 1522.85 234.628 1518.27 Q237.707 1513.66 243.517 1513.66 Z\" fill=\"#000000\" fill-rule=\"nonzero\" fill-opacity=\"1\" /><path clip-path=\"url(#clip220)\" d=\"M719.176 1544.91 L735.495 1544.91 L735.495 1548.85 L713.551 1548.85 L713.551 1544.91 Q716.213 1542.16 720.796 1537.53 Q725.402 1532.88 726.583 1531.53 Q728.828 1529.01 729.708 1527.27 Q730.611 1525.51 730.611 1523.82 Q730.611 1521.07 728.666 1519.33 Q726.745 1517.6 723.643 1517.6 Q721.444 1517.6 718.99 1518.36 Q716.56 1519.13 713.782 1520.68 L713.782 1515.95 Q716.606 1514.82 719.06 1514.24 Q721.514 1513.66 723.551 1513.66 Q728.921 1513.66 732.115 1516.35 Q735.31 1519.03 735.31 1523.52 Q735.31 1525.65 734.5 1527.57 Q733.713 1529.47 731.606 1532.07 Q731.027 1532.74 727.926 1535.95 Q724.824 1539.15 719.176 1544.91 Z\" fill=\"#000000\" fill-rule=\"nonzero\" fill-opacity=\"1\" /><path clip-path=\"url(#clip220)\" d=\"M745.356 1514.29 L763.712 1514.29 L763.712 1518.22 L749.638 1518.22 L749.638 1526.7 Q750.657 1526.35 751.675 1526.19 Q752.694 1526 753.713 1526 Q759.5 1526 762.879 1529.17 Q766.259 1532.34 766.259 1537.76 Q766.259 1543.34 762.787 1546.44 Q759.314 1549.52 752.995 1549.52 Q750.819 1549.52 748.55 1549.15 Q746.305 1548.78 743.898 1548.04 L743.898 1543.34 Q745.981 1544.47 748.203 1545.03 Q750.425 1545.58 752.902 1545.58 Q756.907 1545.58 759.245 1543.48 Q761.583 1541.37 761.583 1537.76 Q761.583 1534.15 759.245 1532.04 Q756.907 1529.94 752.902 1529.94 Q751.027 1529.94 749.152 1530.35 Q747.301 1530.77 745.356 1531.65 L745.356 1514.29 Z\" fill=\"#000000\" fill-rule=\"nonzero\" fill-opacity=\"1\" /><path clip-path=\"url(#clip220)\" d=\"M785.472 1517.37 Q781.861 1517.37 780.032 1520.93 Q778.226 1524.47 778.226 1531.6 Q778.226 1538.71 780.032 1542.27 Q781.861 1545.82 785.472 1545.82 Q789.106 1545.82 790.911 1542.27 Q792.74 1538.71 792.74 1531.6 Q792.74 1524.47 790.911 1520.93 Q789.106 1517.37 785.472 1517.37 M785.472 1513.66 Q791.282 1513.66 794.337 1518.27 Q797.416 1522.85 797.416 1531.6 Q797.416 1540.33 794.337 1544.94 Q791.282 1549.52 785.472 1549.52 Q779.661 1549.52 776.583 1544.94 Q773.527 1540.33 773.527 1531.6 Q773.527 1522.85 776.583 1518.27 Q779.661 1513.66 785.472 1513.66 Z\" fill=\"#000000\" fill-rule=\"nonzero\" fill-opacity=\"1\" /><path clip-path=\"url(#clip220)\" d=\"M1227.07 1514.29 L1245.42 1514.29 L1245.42 1518.22 L1231.35 1518.22 L1231.35 1526.7 Q1232.37 1526.35 1233.39 1526.19 Q1234.41 1526 1235.42 1526 Q1241.21 1526 1244.59 1529.17 Q1247.97 1532.34 1247.97 1537.76 Q1247.97 1543.34 1244.5 1546.44 Q1241.03 1549.52 1234.71 1549.52 Q1232.53 1549.52 1230.26 1549.15 Q1228.02 1548.78 1225.61 1548.04 L1225.61 1543.34 Q1227.69 1544.47 1229.91 1545.03 Q1232.14 1545.58 1234.61 1545.58 Q1238.62 1545.58 1240.96 1543.48 Q1243.29 1541.37 1243.29 1537.76 Q1243.29 1534.15 1240.96 1532.04 Q1238.62 1529.94 1234.61 1529.94 Q1232.74 1529.94 1230.86 1530.35 Q1229.01 1530.77 1227.07 1531.65 L1227.07 1514.29 Z\" fill=\"#000000\" fill-rule=\"nonzero\" fill-opacity=\"1\" /><path clip-path=\"url(#clip220)\" d=\"M1267.18 1517.37 Q1263.57 1517.37 1261.74 1520.93 Q1259.94 1524.47 1259.94 1531.6 Q1259.94 1538.71 1261.74 1542.27 Q1263.57 1545.82 1267.18 1545.82 Q1270.82 1545.82 1272.62 1542.27 Q1274.45 1538.71 1274.45 1531.6 Q1274.45 1524.47 1272.62 1520.93 Q1270.82 1517.37 1267.18 1517.37 M1267.18 1513.66 Q1272.99 1513.66 1276.05 1518.27 Q1279.13 1522.85 1279.13 1531.6 Q1279.13 1540.33 1276.05 1544.94 Q1272.99 1549.52 1267.18 1549.52 Q1261.37 1549.52 1258.29 1544.94 Q1255.24 1540.33 1255.24 1531.6 Q1255.24 1522.85 1258.29 1518.27 Q1261.37 1513.66 1267.18 1513.66 Z\" fill=\"#000000\" fill-rule=\"nonzero\" fill-opacity=\"1\" /><path clip-path=\"url(#clip220)\" d=\"M1297.35 1517.37 Q1293.73 1517.37 1291.91 1520.93 Q1290.1 1524.47 1290.1 1531.6 Q1290.1 1538.71 1291.91 1542.27 Q1293.73 1545.82 1297.35 1545.82 Q1300.98 1545.82 1302.78 1542.27 Q1304.61 1538.71 1304.61 1531.6 Q1304.61 1524.47 1302.78 1520.93 Q1300.98 1517.37 1297.35 1517.37 M1297.35 1513.66 Q1303.16 1513.66 1306.21 1518.27 Q1309.29 1522.85 1309.29 1531.6 Q1309.29 1540.33 1306.21 1544.94 Q1303.16 1549.52 1297.35 1549.52 Q1291.53 1549.52 1288.46 1544.94 Q1285.4 1540.33 1285.4 1531.6 Q1285.4 1522.85 1288.46 1518.27 Q1291.53 1513.66 1297.35 1513.66 Z\" fill=\"#000000\" fill-rule=\"nonzero\" fill-opacity=\"1\" /><path clip-path=\"url(#clip220)\" d=\"M1737.69 1514.29 L1759.91 1514.29 L1759.91 1516.28 L1747.37 1548.85 L1742.48 1548.85 L1754.29 1518.22 L1737.69 1518.22 L1737.69 1514.29 Z\" fill=\"#000000\" fill-rule=\"nonzero\" fill-opacity=\"1\" /><path clip-path=\"url(#clip220)\" d=\"M1769.08 1514.29 L1787.44 1514.29 L1787.44 1518.22 L1773.36 1518.22 L1773.36 1526.7 Q1774.38 1526.35 1775.4 1526.19 Q1776.42 1526 1777.44 1526 Q1783.22 1526 1786.6 1529.17 Q1789.98 1532.34 1789.98 1537.76 Q1789.98 1543.34 1786.51 1546.44 Q1783.04 1549.52 1776.72 1549.52 Q1774.54 1549.52 1772.27 1549.15 Q1770.03 1548.78 1767.62 1548.04 L1767.62 1543.34 Q1769.7 1544.47 1771.93 1545.03 Q1774.15 1545.58 1776.63 1545.58 Q1780.63 1545.58 1782.97 1543.48 Q1785.31 1541.37 1785.31 1537.76 Q1785.31 1534.15 1782.97 1532.04 Q1780.63 1529.94 1776.63 1529.94 Q1774.75 1529.94 1772.88 1530.35 Q1771.02 1530.77 1769.08 1531.65 L1769.08 1514.29 Z\" fill=\"#000000\" fill-rule=\"nonzero\" fill-opacity=\"1\" /><path clip-path=\"url(#clip220)\" d=\"M1809.2 1517.37 Q1805.58 1517.37 1803.76 1520.93 Q1801.95 1524.47 1801.95 1531.6 Q1801.95 1538.71 1803.76 1542.27 Q1805.58 1545.82 1809.2 1545.82 Q1812.83 1545.82 1814.64 1542.27 Q1816.46 1538.71 1816.46 1531.6 Q1816.46 1524.47 1814.64 1520.93 Q1812.83 1517.37 1809.2 1517.37 M1809.2 1513.66 Q1815.01 1513.66 1818.06 1518.27 Q1821.14 1522.85 1821.14 1531.6 Q1821.14 1540.33 1818.06 1544.94 Q1815.01 1549.52 1809.2 1549.52 Q1803.39 1549.52 1800.31 1544.94 Q1797.25 1540.33 1797.25 1531.6 Q1797.25 1522.85 1800.31 1518.27 Q1803.39 1513.66 1809.2 1513.66 Z\" fill=\"#000000\" fill-rule=\"nonzero\" fill-opacity=\"1\" /><path clip-path=\"url(#clip220)\" d=\"M2235.91 1544.91 L2243.55 1544.91 L2243.55 1518.55 L2235.24 1520.21 L2235.24 1515.95 L2243.5 1514.29 L2248.18 1514.29 L2248.18 1544.91 L2255.81 1544.91 L2255.81 1548.85 L2235.91 1548.85 L2235.91 1544.91 Z\" fill=\"#000000\" fill-rule=\"nonzero\" fill-opacity=\"1\" /><path clip-path=\"url(#clip220)\" d=\"M2275.26 1517.37 Q2271.65 1517.37 2269.82 1520.93 Q2268.01 1524.47 2268.01 1531.6 Q2268.01 1538.71 2269.82 1542.27 Q2271.65 1545.82 2275.26 1545.82 Q2278.89 1545.82 2280.7 1542.27 Q2282.53 1538.71 2282.53 1531.6 Q2282.53 1524.47 2280.7 1520.93 Q2278.89 1517.37 2275.26 1517.37 M2275.26 1513.66 Q2281.07 1513.66 2284.12 1518.27 Q2287.2 1522.85 2287.2 1531.6 Q2287.2 1540.33 2284.12 1544.94 Q2281.07 1549.52 2275.26 1549.52 Q2269.45 1549.52 2266.37 1544.94 Q2263.31 1540.33 2263.31 1531.6 Q2263.31 1522.85 2266.37 1518.27 Q2269.45 1513.66 2275.26 1513.66 Z\" fill=\"#000000\" fill-rule=\"nonzero\" fill-opacity=\"1\" /><path clip-path=\"url(#clip220)\" d=\"M2305.42 1517.37 Q2301.81 1517.37 2299.98 1520.93 Q2298.18 1524.47 2298.18 1531.6 Q2298.18 1538.71 2299.98 1542.27 Q2301.81 1545.82 2305.42 1545.82 Q2309.05 1545.82 2310.86 1542.27 Q2312.69 1538.71 2312.69 1531.6 Q2312.69 1524.47 2310.86 1520.93 Q2309.05 1517.37 2305.42 1517.37 M2305.42 1513.66 Q2311.23 1513.66 2314.29 1518.27 Q2317.37 1522.85 2317.37 1531.6 Q2317.37 1540.33 2314.29 1544.94 Q2311.23 1549.52 2305.42 1549.52 Q2299.61 1549.52 2296.53 1544.94 Q2293.48 1540.33 2293.48 1531.6 Q2293.48 1522.85 2296.53 1518.27 Q2299.61 1513.66 2305.42 1513.66 Z\" fill=\"#000000\" fill-rule=\"nonzero\" fill-opacity=\"1\" /><path clip-path=\"url(#clip220)\" d=\"M2335.58 1517.37 Q2331.97 1517.37 2330.14 1520.93 Q2328.34 1524.47 2328.34 1531.6 Q2328.34 1538.71 2330.14 1542.27 Q2331.97 1545.82 2335.58 1545.82 Q2339.22 1545.82 2341.02 1542.27 Q2342.85 1538.71 2342.85 1531.6 Q2342.85 1524.47 2341.02 1520.93 Q2339.22 1517.37 2335.58 1517.37 M2335.58 1513.66 Q2341.39 1513.66 2344.45 1518.27 Q2347.53 1522.85 2347.53 1531.6 Q2347.53 1540.33 2344.45 1544.94 Q2341.39 1549.52 2335.58 1549.52 Q2329.77 1549.52 2326.69 1544.94 Q2323.64 1540.33 2323.64 1531.6 Q2323.64 1522.85 2326.69 1518.27 Q2329.77 1513.66 2335.58 1513.66 Z\" fill=\"#000000\" fill-rule=\"nonzero\" fill-opacity=\"1\" /><polyline clip-path=\"url(#clip222)\" style=\"stroke:#000000; stroke-linecap:round; stroke-linejoin:round; stroke-width:2; stroke-opacity:0.1; fill:none\" points=\"184.191,1445.72 2352.76,1445.72 \"/>\n",
       "<polyline clip-path=\"url(#clip222)\" style=\"stroke:#000000; stroke-linecap:round; stroke-linejoin:round; stroke-width:2; stroke-opacity:0.1; fill:none\" points=\"184.191,1203.26 2352.76,1203.26 \"/>\n",
       "<polyline clip-path=\"url(#clip222)\" style=\"stroke:#000000; stroke-linecap:round; stroke-linejoin:round; stroke-width:2; stroke-opacity:0.1; fill:none\" points=\"184.191,960.809 2352.76,960.809 \"/>\n",
       "<polyline clip-path=\"url(#clip222)\" style=\"stroke:#000000; stroke-linecap:round; stroke-linejoin:round; stroke-width:2; stroke-opacity:0.1; fill:none\" points=\"184.191,718.355 2352.76,718.355 \"/>\n",
       "<polyline clip-path=\"url(#clip222)\" style=\"stroke:#000000; stroke-linecap:round; stroke-linejoin:round; stroke-width:2; stroke-opacity:0.1; fill:none\" points=\"184.191,475.902 2352.76,475.902 \"/>\n",
       "<polyline clip-path=\"url(#clip222)\" style=\"stroke:#000000; stroke-linecap:round; stroke-linejoin:round; stroke-width:2; stroke-opacity:0.1; fill:none\" points=\"184.191,233.448 2352.76,233.448 \"/>\n",
       "<polyline clip-path=\"url(#clip220)\" style=\"stroke:#000000; stroke-linecap:round; stroke-linejoin:round; stroke-width:4; stroke-opacity:1; fill:none\" points=\"184.191,1486.45 184.191,47.2441 \"/>\n",
       "<polyline clip-path=\"url(#clip220)\" style=\"stroke:#000000; stroke-linecap:round; stroke-linejoin:round; stroke-width:4; stroke-opacity:1; fill:none\" points=\"184.191,1445.72 203.088,1445.72 \"/>\n",
       "<polyline clip-path=\"url(#clip220)\" style=\"stroke:#000000; stroke-linecap:round; stroke-linejoin:round; stroke-width:4; stroke-opacity:1; fill:none\" points=\"184.191,1203.26 203.088,1203.26 \"/>\n",
       "<polyline clip-path=\"url(#clip220)\" style=\"stroke:#000000; stroke-linecap:round; stroke-linejoin:round; stroke-width:4; stroke-opacity:1; fill:none\" points=\"184.191,960.809 203.088,960.809 \"/>\n",
       "<polyline clip-path=\"url(#clip220)\" style=\"stroke:#000000; stroke-linecap:round; stroke-linejoin:round; stroke-width:4; stroke-opacity:1; fill:none\" points=\"184.191,718.355 203.088,718.355 \"/>\n",
       "<polyline clip-path=\"url(#clip220)\" style=\"stroke:#000000; stroke-linecap:round; stroke-linejoin:round; stroke-width:4; stroke-opacity:1; fill:none\" points=\"184.191,475.902 203.088,475.902 \"/>\n",
       "<polyline clip-path=\"url(#clip220)\" style=\"stroke:#000000; stroke-linecap:round; stroke-linejoin:round; stroke-width:4; stroke-opacity:1; fill:none\" points=\"184.191,233.448 203.088,233.448 \"/>\n",
       "<path clip-path=\"url(#clip220)\" d=\"M91.0151 1431.51 Q87.404 1431.51 85.5753 1435.08 Q83.7697 1438.62 83.7697 1445.75 Q83.7697 1452.86 85.5753 1456.42 Q87.404 1459.96 91.0151 1459.96 Q94.6493 1459.96 96.4548 1456.42 Q98.2835 1452.86 98.2835 1445.75 Q98.2835 1438.62 96.4548 1435.08 Q94.6493 1431.51 91.0151 1431.51 M91.0151 1427.81 Q96.8252 1427.81 99.8808 1432.42 Q102.959 1437 102.959 1445.75 Q102.959 1454.48 99.8808 1459.08 Q96.8252 1463.67 91.0151 1463.67 Q85.2049 1463.67 82.1262 1459.08 Q79.0707 1454.48 79.0707 1445.75 Q79.0707 1437 82.1262 1432.42 Q85.2049 1427.81 91.0151 1427.81 Z\" fill=\"#000000\" fill-rule=\"nonzero\" fill-opacity=\"1\" /><path clip-path=\"url(#clip220)\" d=\"M111.177 1457.12 L116.061 1457.12 L116.061 1463 L111.177 1463 L111.177 1457.12 Z\" fill=\"#000000\" fill-rule=\"nonzero\" fill-opacity=\"1\" /><path clip-path=\"url(#clip220)\" d=\"M136.246 1431.51 Q132.635 1431.51 130.807 1435.08 Q129.001 1438.62 129.001 1445.75 Q129.001 1452.86 130.807 1456.42 Q132.635 1459.96 136.246 1459.96 Q139.881 1459.96 141.686 1456.42 Q143.515 1452.86 143.515 1445.75 Q143.515 1438.62 141.686 1435.08 Q139.881 1431.51 136.246 1431.51 M136.246 1427.81 Q142.056 1427.81 145.112 1432.42 Q148.191 1437 148.191 1445.75 Q148.191 1454.48 145.112 1459.08 Q142.056 1463.67 136.246 1463.67 Q130.436 1463.67 127.357 1459.08 Q124.302 1454.48 124.302 1445.75 Q124.302 1437 127.357 1432.42 Q130.436 1427.81 136.246 1427.81 Z\" fill=\"#000000\" fill-rule=\"nonzero\" fill-opacity=\"1\" /><path clip-path=\"url(#clip220)\" d=\"M86.0382 1216.61 L102.358 1216.61 L102.358 1220.54 L80.4133 1220.54 L80.4133 1216.61 Q83.0753 1213.85 87.6586 1209.22 Q92.2651 1204.57 93.4456 1203.23 Q95.691 1200.7 96.5706 1198.97 Q97.4734 1197.21 97.4734 1195.52 Q97.4734 1192.76 95.5289 1191.03 Q93.6076 1189.29 90.5058 1189.29 Q88.3067 1189.29 85.8531 1190.06 Q83.4225 1190.82 80.6447 1192.37 L80.6447 1187.65 Q83.4688 1186.51 85.9225 1185.94 Q88.3762 1185.36 90.4132 1185.36 Q95.7836 1185.36 98.978 1188.04 Q102.172 1190.73 102.172 1195.22 Q102.172 1197.35 101.362 1199.27 Q100.575 1201.17 98.4687 1203.76 Q97.89 1204.43 94.7882 1207.65 Q91.6864 1210.84 86.0382 1216.61 Z\" fill=\"#000000\" fill-rule=\"nonzero\" fill-opacity=\"1\" /><path clip-path=\"url(#clip220)\" d=\"M112.172 1214.66 L117.057 1214.66 L117.057 1220.54 L112.172 1220.54 L112.172 1214.66 Z\" fill=\"#000000\" fill-rule=\"nonzero\" fill-opacity=\"1\" /><path clip-path=\"url(#clip220)\" d=\"M127.288 1185.98 L145.644 1185.98 L145.644 1189.92 L131.57 1189.92 L131.57 1198.39 Q132.589 1198.04 133.607 1197.88 Q134.626 1197.7 135.644 1197.7 Q141.431 1197.7 144.811 1200.87 Q148.191 1204.04 148.191 1209.45 Q148.191 1215.03 144.718 1218.13 Q141.246 1221.21 134.927 1221.21 Q132.751 1221.21 130.482 1220.84 Q128.237 1220.47 125.83 1219.73 L125.83 1215.03 Q127.913 1216.17 130.135 1216.72 Q132.357 1217.28 134.834 1217.28 Q138.839 1217.28 141.177 1215.17 Q143.515 1213.07 143.515 1209.45 Q143.515 1205.84 141.177 1203.74 Q138.839 1201.63 134.834 1201.63 Q132.959 1201.63 131.084 1202.05 Q129.232 1202.46 127.288 1203.34 L127.288 1185.98 Z\" fill=\"#000000\" fill-rule=\"nonzero\" fill-opacity=\"1\" /><path clip-path=\"url(#clip220)\" d=\"M81.0614 943.529 L99.4178 943.529 L99.4178 947.464 L85.3438 947.464 L85.3438 955.936 Q86.3623 955.589 87.3808 955.427 Q88.3993 955.242 89.4178 955.242 Q95.2049 955.242 98.5845 958.413 Q101.964 961.584 101.964 967.001 Q101.964 972.58 98.4919 975.681 Q95.0197 978.76 88.7003 978.76 Q86.5243 978.76 84.2558 978.39 Q82.0105 978.019 79.6031 977.279 L79.6031 972.58 Q81.6864 973.714 83.9086 974.269 Q86.1308 974.825 88.6077 974.825 Q92.6123 974.825 94.9502 972.718 Q97.2882 970.612 97.2882 967.001 Q97.2882 963.39 94.9502 961.283 Q92.6123 959.177 88.6077 959.177 Q86.7327 959.177 84.8577 959.593 Q83.0058 960.01 81.0614 960.89 L81.0614 943.529 Z\" fill=\"#000000\" fill-rule=\"nonzero\" fill-opacity=\"1\" /><path clip-path=\"url(#clip220)\" d=\"M111.177 972.209 L116.061 972.209 L116.061 978.089 L111.177 978.089 L111.177 972.209 Z\" fill=\"#000000\" fill-rule=\"nonzero\" fill-opacity=\"1\" /><path clip-path=\"url(#clip220)\" d=\"M136.246 946.607 Q132.635 946.607 130.807 950.172 Q129.001 953.714 129.001 960.843 Q129.001 967.95 130.807 971.515 Q132.635 975.056 136.246 975.056 Q139.881 975.056 141.686 971.515 Q143.515 967.95 143.515 960.843 Q143.515 953.714 141.686 950.172 Q139.881 946.607 136.246 946.607 M136.246 942.904 Q142.056 942.904 145.112 947.51 Q148.191 952.094 148.191 960.843 Q148.191 969.57 145.112 974.177 Q142.056 978.76 136.246 978.76 Q130.436 978.76 127.357 974.177 Q124.302 969.57 124.302 960.843 Q124.302 952.094 127.357 947.51 Q130.436 942.904 136.246 942.904 Z\" fill=\"#000000\" fill-rule=\"nonzero\" fill-opacity=\"1\" /><path clip-path=\"url(#clip220)\" d=\"M80.8299 701.075 L103.052 701.075 L103.052 703.066 L90.5058 735.635 L85.6216 735.635 L97.4271 705.01 L80.8299 705.01 L80.8299 701.075 Z\" fill=\"#000000\" fill-rule=\"nonzero\" fill-opacity=\"1\" /><path clip-path=\"url(#clip220)\" d=\"M112.172 729.756 L117.057 729.756 L117.057 735.635 L112.172 735.635 L112.172 729.756 Z\" fill=\"#000000\" fill-rule=\"nonzero\" fill-opacity=\"1\" /><path clip-path=\"url(#clip220)\" d=\"M127.288 701.075 L145.644 701.075 L145.644 705.01 L131.57 705.01 L131.57 713.483 Q132.589 713.135 133.607 712.973 Q134.626 712.788 135.644 712.788 Q141.431 712.788 144.811 715.959 Q148.191 719.131 148.191 724.547 Q148.191 730.126 144.718 733.228 Q141.246 736.307 134.927 736.307 Q132.751 736.307 130.482 735.936 Q128.237 735.566 125.83 734.825 L125.83 730.126 Q127.913 731.26 130.135 731.816 Q132.357 732.371 134.834 732.371 Q138.839 732.371 141.177 730.265 Q143.515 728.158 143.515 724.547 Q143.515 720.936 141.177 718.83 Q138.839 716.723 134.834 716.723 Q132.959 716.723 131.084 717.14 Q129.232 717.557 127.288 718.436 L127.288 701.075 Z\" fill=\"#000000\" fill-rule=\"nonzero\" fill-opacity=\"1\" /><path clip-path=\"url(#clip220)\" d=\"M51.6634 489.247 L59.3023 489.247 L59.3023 462.881 L50.9921 464.548 L50.9921 460.288 L59.256 458.622 L63.9319 458.622 L63.9319 489.247 L71.5707 489.247 L71.5707 493.182 L51.6634 493.182 L51.6634 489.247 Z\" fill=\"#000000\" fill-rule=\"nonzero\" fill-opacity=\"1\" /><path clip-path=\"url(#clip220)\" d=\"M91.0151 461.701 Q87.404 461.701 85.5753 465.265 Q83.7697 468.807 83.7697 475.937 Q83.7697 483.043 85.5753 486.608 Q87.404 490.149 91.0151 490.149 Q94.6493 490.149 96.4548 486.608 Q98.2835 483.043 98.2835 475.937 Q98.2835 468.807 96.4548 465.265 Q94.6493 461.701 91.0151 461.701 M91.0151 457.997 Q96.8252 457.997 99.8808 462.603 Q102.959 467.187 102.959 475.937 Q102.959 484.663 99.8808 489.27 Q96.8252 493.853 91.0151 493.853 Q85.2049 493.853 82.1262 489.27 Q79.0707 484.663 79.0707 475.937 Q79.0707 467.187 82.1262 462.603 Q85.2049 457.997 91.0151 457.997 Z\" fill=\"#000000\" fill-rule=\"nonzero\" fill-opacity=\"1\" /><path clip-path=\"url(#clip220)\" d=\"M111.177 487.302 L116.061 487.302 L116.061 493.182 L111.177 493.182 L111.177 487.302 Z\" fill=\"#000000\" fill-rule=\"nonzero\" fill-opacity=\"1\" /><path clip-path=\"url(#clip220)\" d=\"M136.246 461.701 Q132.635 461.701 130.807 465.265 Q129.001 468.807 129.001 475.937 Q129.001 483.043 130.807 486.608 Q132.635 490.149 136.246 490.149 Q139.881 490.149 141.686 486.608 Q143.515 483.043 143.515 475.937 Q143.515 468.807 141.686 465.265 Q139.881 461.701 136.246 461.701 M136.246 457.997 Q142.056 457.997 145.112 462.603 Q148.191 467.187 148.191 475.937 Q148.191 484.663 145.112 489.27 Q142.056 493.853 136.246 493.853 Q130.436 493.853 127.357 489.27 Q124.302 484.663 124.302 475.937 Q124.302 467.187 127.357 462.603 Q130.436 457.997 136.246 457.997 Z\" fill=\"#000000\" fill-rule=\"nonzero\" fill-opacity=\"1\" /><path clip-path=\"url(#clip220)\" d=\"M52.6588 246.793 L60.2976 246.793 L60.2976 220.428 L51.9875 222.094 L51.9875 217.835 L60.2513 216.168 L64.9272 216.168 L64.9272 246.793 L72.5661 246.793 L72.5661 250.728 L52.6588 250.728 L52.6588 246.793 Z\" fill=\"#000000\" fill-rule=\"nonzero\" fill-opacity=\"1\" /><path clip-path=\"url(#clip220)\" d=\"M86.0382 246.793 L102.358 246.793 L102.358 250.728 L80.4133 250.728 L80.4133 246.793 Q83.0753 244.039 87.6586 239.409 Q92.2651 234.756 93.4456 233.414 Q95.691 230.891 96.5706 229.154 Q97.4734 227.395 97.4734 225.705 Q97.4734 222.951 95.5289 221.215 Q93.6076 219.479 90.5058 219.479 Q88.3067 219.479 85.8531 220.242 Q83.4225 221.006 80.6447 222.557 L80.6447 217.835 Q83.4688 216.701 85.9225 216.122 Q88.3762 215.543 90.4132 215.543 Q95.7836 215.543 98.978 218.229 Q102.172 220.914 102.172 225.404 Q102.172 227.534 101.362 229.455 Q100.575 231.353 98.4687 233.946 Q97.89 234.617 94.7882 237.835 Q91.6864 241.029 86.0382 246.793 Z\" fill=\"#000000\" fill-rule=\"nonzero\" fill-opacity=\"1\" /><path clip-path=\"url(#clip220)\" d=\"M112.172 244.849 L117.057 244.849 L117.057 250.728 L112.172 250.728 L112.172 244.849 Z\" fill=\"#000000\" fill-rule=\"nonzero\" fill-opacity=\"1\" /><path clip-path=\"url(#clip220)\" d=\"M127.288 216.168 L145.644 216.168 L145.644 220.104 L131.57 220.104 L131.57 228.576 Q132.589 228.228 133.607 228.066 Q134.626 227.881 135.644 227.881 Q141.431 227.881 144.811 231.053 Q148.191 234.224 148.191 239.64 Q148.191 245.219 144.718 248.321 Q141.246 251.4 134.927 251.4 Q132.751 251.4 130.482 251.029 Q128.237 250.659 125.83 249.918 L125.83 245.219 Q127.913 246.353 130.135 246.909 Q132.357 247.464 134.834 247.464 Q138.839 247.464 141.177 245.358 Q143.515 243.252 143.515 239.64 Q143.515 236.029 141.177 233.923 Q138.839 231.816 134.834 231.816 Q132.959 231.816 131.084 232.233 Q129.232 232.65 127.288 233.529 L127.288 216.168 Z\" fill=\"#000000\" fill-rule=\"nonzero\" fill-opacity=\"1\" /><polyline clip-path=\"url(#clip222)\" style=\"stroke:#009af9; stroke-linecap:round; stroke-linejoin:round; stroke-width:4; stroke-opacity:1; fill:none\" points=\"245.565,87.9763 247.613,162.945 249.661,233.775 251.709,300.693 253.757,363.917 255.804,423.649 257.852,480.084 259.9,533.402 261.948,583.776 263.996,631.369 266.044,676.334 268.092,718.816 270.14,758.953 272.187,796.873 274.235,832.7 276.283,866.548 278.331,898.527 280.379,928.741 282.427,957.286 284.475,984.255 286.522,1009.74 288.57,1033.81 290.618,1056.55 292.666,1078.04 294.714,1098.34 296.762,1117.52 298.81,1135.64 300.857,1152.76 302.905,1168.94 304.953,1184.22 307.001,1198.66 309.049,1212.3 311.097,1225.19 313.145,1237.37 315.193,1248.87 317.24,1259.74 319.288,1270.01 321.336,1279.71 323.384,1288.88 325.432,1297.54 327.48,1305.72 329.528,1313.45 331.575,1320.75 333.623,1327.65 335.671,1334.17 337.719,1340.33 339.767,1346.15 341.815,1351.65 343.863,1356.84 345.911,1361.75 347.958,1366.38 350.006,1370.77 352.054,1374.9 354.102,1378.81 356.15,1382.51 358.198,1386 360.246,1389.3 362.293,1392.41 364.341,1395.35 366.389,1398.13 368.437,1400.76 370.485,1403.24 372.533,1405.59 374.581,1407.8 376.628,1409.9 378.676,1411.88 380.724,1413.74 382.772,1415.51 384.82,1417.18 386.868,1418.75 388.916,1420.24 390.964,1421.65 393.011,1422.98 395.059,1424.23 397.107,1425.42 399.155,1426.54 401.203,1427.6 403.251,1428.6 405.299,1429.54 407.346,1430.44 409.394,1431.28 411.442,1432.08 413.49,1432.83 415.538,1433.54 417.586,1434.21 419.634,1434.85 421.681,1435.45 423.729,1436.02 425.777,1436.55 427.825,1437.06 429.873,1437.54 431.921,1437.99 433.969,1438.41 436.017,1438.82 438.064,1439.2 440.112,1439.56 442.16,1439.9 444.208,1440.22 446.256,1440.52 448.304,1440.81 450.352,1441.08 452.399,1441.34 454.447,1441.58 456.495,1441.81 458.543,1442.02 460.591,1442.23 462.639,1442.42 464.687,1442.6 466.734,1442.77 468.782,1442.94 470.83,1443.09 472.878,1443.23 474.926,1443.37 476.974,1443.5 479.022,1443.62 481.07,1443.74 483.117,1443.85 485.165,1443.95 487.213,1444.05 489.261,1444.14 491.309,1444.23 493.357,1444.31 495.405,1444.39 497.452,1444.46 499.5,1444.53 501.548,1444.6 503.596,1444.66 505.644,1444.72 507.692,1444.77 509.74,1444.82 511.788,1444.87 513.835,1444.92 515.883,1444.96 517.931,1445 519.979,1445.04 522.027,1445.08 524.075,1445.12 526.123,1445.15 528.17,1445.18 530.218,1445.21 532.266,1445.24 534.314,1445.26 536.362,1445.29 538.41,1445.31 540.458,1445.33 542.505,1445.36 544.553,1445.38 546.601,1445.39 548.649,1445.41 550.697,1445.43 552.745,1445.44 554.793,1445.46 556.841,1445.47 558.888,1445.49 560.936,1445.5 562.984,1445.51 565.032,1445.52 567.08,1445.53 569.128,1445.54 571.176,1445.55 573.223,1445.56 575.271,1445.57 577.319,1445.58 579.367,1445.59 581.415,1445.59 583.463,1445.6 585.511,1445.61 587.558,1445.61 589.606,1445.62 591.654,1445.62 593.702,1445.63 595.75,1445.63 597.798,1445.64 599.846,1445.64 601.894,1445.65 603.941,1445.65 605.989,1445.65 608.037,1445.66 610.085,1445.66 612.133,1445.66 614.181,1445.67 616.229,1445.67 618.276,1445.67 620.324,1445.67 622.372,1445.68 624.42,1445.68 626.468,1445.68 628.516,1445.68 630.564,1445.68 632.611,1445.69 634.659,1445.69 636.707,1445.69 638.755,1445.69 640.803,1445.69 642.851,1445.69 644.899,1445.69 646.947,1445.7 648.994,1445.7 651.042,1445.7 653.09,1445.7 655.138,1445.7 657.186,1445.7 659.234,1445.7 661.282,1445.7 663.329,1445.7 665.377,1445.7 667.425,1445.7 669.473,1445.71 671.521,1445.71 673.569,1445.71 675.617,1445.71 677.664,1445.71 679.712,1445.71 681.76,1445.71 683.808,1445.71 685.856,1445.71 687.904,1445.71 689.952,1445.71 692,1445.71 694.047,1445.71 696.095,1445.71 698.143,1445.71 700.191,1445.71 702.239,1445.71 704.287,1445.71 706.335,1445.71 708.382,1445.71 710.43,1445.71 712.478,1445.71 714.526,1445.71 716.574,1445.71 718.622,1445.71 720.67,1445.71 722.718,1445.71 724.765,1445.71 726.813,1445.71 728.861,1445.71 730.909,1445.71 732.957,1445.71 735.005,1445.71 737.053,1445.71 739.1,1445.71 741.148,1445.71 743.196,1445.71 745.244,1445.71 747.292,1445.71 749.34,1445.71 751.388,1445.71 753.435,1445.71 755.483,1445.71 757.531,1445.71 759.579,1445.71 761.627,1445.71 763.675,1445.71 765.723,1445.71 767.771,1445.71 769.818,1445.72 771.866,1445.72 773.914,1445.72 775.962,1445.72 778.01,1445.72 780.058,1445.72 782.106,1445.72 784.153,1445.72 786.201,1445.72 788.249,1445.72 790.297,1445.72 792.345,1445.72 794.393,1445.72 796.441,1445.72 798.488,1445.72 800.536,1445.72 802.584,1445.72 804.632,1445.72 806.68,1445.72 808.728,1445.72 810.776,1445.72 812.824,1445.72 814.871,1445.72 816.919,1445.72 818.967,1445.72 821.015,1445.72 823.063,1445.72 825.111,1445.72 827.159,1445.72 829.206,1445.72 831.254,1445.72 833.302,1445.72 835.35,1445.72 837.398,1445.72 839.446,1445.72 841.494,1445.72 843.541,1445.72 845.589,1445.72 847.637,1445.72 849.685,1445.72 851.733,1445.72 853.781,1445.72 855.829,1445.72 857.877,1445.72 859.924,1445.72 861.972,1445.72 864.02,1445.72 866.068,1445.72 868.116,1445.72 870.164,1445.72 872.212,1445.72 874.259,1445.72 876.307,1445.72 878.355,1445.72 880.403,1445.72 882.451,1445.72 884.499,1445.72 886.547,1445.72 888.594,1445.72 890.642,1445.72 892.69,1445.72 894.738,1445.72 896.786,1445.72 898.834,1445.72 900.882,1445.72 902.93,1445.72 904.977,1445.72 907.025,1445.72 909.073,1445.72 911.121,1445.72 913.169,1445.72 915.217,1445.72 917.265,1445.72 919.312,1445.72 921.36,1445.72 923.408,1445.72 925.456,1445.72 927.504,1445.72 929.552,1445.72 931.6,1445.72 933.648,1445.72 935.695,1445.72 937.743,1445.72 939.791,1445.72 941.839,1445.72 943.887,1445.72 945.935,1445.72 947.983,1445.72 950.03,1445.72 952.078,1445.72 954.126,1445.72 956.174,1445.72 958.222,1445.72 960.27,1445.72 962.318,1445.72 964.365,1445.72 966.413,1445.72 968.461,1445.72 970.509,1445.72 972.557,1445.72 974.605,1445.72 976.653,1445.72 978.701,1445.72 980.748,1445.72 982.796,1445.72 984.844,1445.72 986.892,1445.72 988.94,1445.72 990.988,1445.72 993.036,1445.72 995.083,1445.72 997.131,1445.72 999.179,1445.72 1001.23,1445.72 1003.27,1445.72 1005.32,1445.72 1007.37,1445.72 1009.42,1445.72 1011.47,1445.72 1013.51,1445.72 1015.56,1445.72 1017.61,1445.72 1019.66,1445.72 1021.71,1445.72 1023.75,1445.72 1025.8,1445.72 1027.85,1445.72 1029.9,1445.72 1031.94,1445.72 1033.99,1445.72 1036.04,1445.72 1038.09,1445.72 1040.14,1445.72 1042.18,1445.72 1044.23,1445.72 1046.28,1445.72 1048.33,1445.72 1050.38,1445.72 1052.42,1445.72 1054.47,1445.72 1056.52,1445.72 1058.57,1445.72 1060.62,1445.72 1062.66,1445.72 1064.71,1445.72 1066.76,1445.72 1068.81,1445.72 1070.85,1445.72 1072.9,1445.72 1074.95,1445.72 1077,1445.72 1079.05,1445.72 1081.09,1445.72 1083.14,1445.72 1085.19,1445.72 1087.24,1445.72 1089.29,1445.72 1091.33,1445.72 1093.38,1445.72 1095.43,1445.72 1097.48,1445.72 1099.52,1445.72 1101.57,1445.72 1103.62,1445.72 1105.67,1445.72 1107.72,1445.72 1109.76,1445.72 1111.81,1445.72 1113.86,1445.72 1115.91,1445.72 1117.96,1445.72 1120,1445.72 1122.05,1445.72 1124.1,1445.72 1126.15,1445.72 1128.19,1445.72 1130.24,1445.72 1132.29,1445.72 1134.34,1445.72 1136.39,1445.72 1138.43,1445.72 1140.48,1445.72 1142.53,1445.72 1144.58,1445.72 1146.63,1445.72 1148.67,1445.72 1150.72,1445.72 1152.77,1445.72 1154.82,1445.72 1156.86,1445.72 1158.91,1445.72 1160.96,1445.72 1163.01,1445.72 1165.06,1445.72 1167.1,1445.72 1169.15,1445.72 1171.2,1445.72 1173.25,1445.72 1175.3,1445.72 1177.34,1445.72 1179.39,1445.72 1181.44,1445.72 1183.49,1445.72 1185.53,1445.72 1187.58,1445.72 1189.63,1445.72 1191.68,1445.72 1193.73,1445.72 1195.77,1445.72 1197.82,1445.72 1199.87,1445.72 1201.92,1445.72 1203.97,1445.72 1206.01,1445.72 1208.06,1445.72 1210.11,1445.72 1212.16,1445.72 1214.2,1445.72 1216.25,1445.72 1218.3,1445.72 1220.35,1445.72 1222.4,1445.72 1224.44,1445.72 1226.49,1445.72 1228.54,1445.72 1230.59,1445.72 1232.64,1445.72 1234.68,1445.72 1236.73,1445.72 1238.78,1445.72 1240.83,1445.72 1242.87,1445.72 1244.92,1445.72 1246.97,1445.72 1249.02,1445.72 1251.07,1445.72 1253.11,1445.72 1255.16,1445.72 1257.21,1445.72 1259.26,1445.72 1261.31,1445.72 1263.35,1445.72 1265.4,1445.72 1267.45,1445.72 1269.5,1445.72 1271.55,1445.72 1273.59,1445.72 1275.64,1445.72 1277.69,1445.72 1279.74,1445.72 1281.78,1445.72 1283.83,1445.72 1285.88,1445.72 1287.93,1445.72 1289.98,1445.72 1292.02,1445.72 1294.07,1445.72 1296.12,1445.72 1298.17,1445.72 1300.22,1445.72 1302.26,1445.72 1304.31,1445.72 1306.36,1445.72 1308.41,1445.72 1310.45,1445.72 1312.5,1445.72 1314.55,1445.72 1316.6,1445.72 1318.65,1445.72 1320.69,1445.72 1322.74,1445.72 1324.79,1445.72 1326.84,1445.72 1328.89,1445.72 1330.93,1445.72 1332.98,1445.72 1335.03,1445.72 1337.08,1445.72 1339.12,1445.72 1341.17,1445.72 1343.22,1445.72 1345.27,1445.72 1347.32,1445.72 1349.36,1445.72 1351.41,1445.72 1353.46,1445.72 1355.51,1445.72 1357.56,1445.72 1359.6,1445.72 1361.65,1445.72 1363.7,1445.72 1365.75,1445.72 1367.79,1445.72 1369.84,1445.72 1371.89,1445.72 1373.94,1445.72 1375.99,1445.72 1378.03,1445.72 1380.08,1445.72 1382.13,1445.72 1384.18,1445.72 1386.23,1445.72 1388.27,1445.72 1390.32,1445.72 1392.37,1445.72 1394.42,1445.72 1396.46,1445.72 1398.51,1445.72 1400.56,1445.72 1402.61,1445.72 1404.66,1445.72 1406.7,1445.72 1408.75,1445.72 1410.8,1445.72 1412.85,1445.72 1414.9,1445.72 1416.94,1445.72 1418.99,1445.72 1421.04,1445.72 1423.09,1445.72 1425.13,1445.72 1427.18,1445.72 1429.23,1445.72 1431.28,1445.72 1433.33,1445.72 1435.37,1445.72 1437.42,1445.72 1439.47,1445.72 1441.52,1445.72 1443.57,1445.72 1445.61,1445.72 1447.66,1445.72 1449.71,1445.72 1451.76,1445.72 1453.8,1445.72 1455.85,1445.72 1457.9,1445.72 1459.95,1445.72 1462,1445.72 1464.04,1445.72 1466.09,1445.72 1468.14,1445.72 1470.19,1445.72 1472.24,1445.72 1474.28,1445.72 1476.33,1445.72 1478.38,1445.72 1480.43,1445.72 1482.48,1445.72 1484.52,1445.72 1486.57,1445.72 1488.62,1445.72 1490.67,1445.72 1492.71,1445.72 1494.76,1445.72 1496.81,1445.72 1498.86,1445.72 1500.91,1445.72 1502.95,1445.72 1505,1445.72 1507.05,1445.72 1509.1,1445.72 1511.15,1445.72 1513.19,1445.72 1515.24,1445.72 1517.29,1445.72 1519.34,1445.72 1521.38,1445.72 1523.43,1445.72 1525.48,1445.72 1527.53,1445.72 1529.58,1445.72 1531.62,1445.72 1533.67,1445.72 1535.72,1445.72 1537.77,1445.72 1539.82,1445.72 1541.86,1445.72 1543.91,1445.72 1545.96,1445.72 1548.01,1445.72 1550.05,1445.72 1552.1,1445.72 1554.15,1445.72 1556.2,1445.72 1558.25,1445.72 1560.29,1445.72 1562.34,1445.72 1564.39,1445.72 1566.44,1445.72 1568.49,1445.72 1570.53,1445.72 1572.58,1445.72 1574.63,1445.72 1576.68,1445.72 1578.72,1445.72 1580.77,1445.72 1582.82,1445.72 1584.87,1445.72 1586.92,1445.72 1588.96,1445.72 1591.01,1445.72 1593.06,1445.72 1595.11,1445.72 1597.16,1445.72 1599.2,1445.72 1601.25,1445.72 1603.3,1445.72 1605.35,1445.72 1607.39,1445.72 1609.44,1445.72 1611.49,1445.72 1613.54,1445.72 1615.59,1445.72 1617.63,1445.72 1619.68,1445.72 1621.73,1445.72 1623.78,1445.72 1625.83,1445.72 1627.87,1445.72 1629.92,1445.72 1631.97,1445.72 1634.02,1445.72 1636.06,1445.72 1638.11,1445.72 1640.16,1445.72 1642.21,1445.72 1644.26,1445.72 1646.3,1445.72 1648.35,1445.72 1650.4,1445.72 1652.45,1445.72 1654.5,1445.72 1656.54,1445.72 1658.59,1445.72 1660.64,1445.72 1662.69,1445.72 1664.73,1445.72 1666.78,1445.72 1668.83,1445.72 1670.88,1445.72 1672.93,1445.72 1674.97,1445.72 1677.02,1445.72 1679.07,1445.72 1681.12,1445.72 1683.17,1445.72 1685.21,1445.72 1687.26,1445.72 1689.31,1445.72 1691.36,1445.72 1693.41,1445.72 1695.45,1445.72 1697.5,1445.72 1699.55,1445.72 1701.6,1445.72 1703.64,1445.72 1705.69,1445.72 1707.74,1445.72 1709.79,1445.72 1711.84,1445.72 1713.88,1445.72 1715.93,1445.72 1717.98,1445.72 1720.03,1445.72 1722.08,1445.72 1724.12,1445.72 1726.17,1445.72 1728.22,1445.72 1730.27,1445.72 1732.31,1445.72 1734.36,1445.72 1736.41,1445.72 1738.46,1445.72 1740.51,1445.72 1742.55,1445.72 1744.6,1445.72 1746.65,1445.72 1748.7,1445.72 1750.75,1445.72 1752.79,1445.72 1754.84,1445.72 1756.89,1445.72 1758.94,1445.72 1760.98,1445.72 1763.03,1445.72 1765.08,1445.72 1767.13,1445.72 1769.18,1445.72 1771.22,1445.72 1773.27,1445.72 1775.32,1445.72 1777.37,1445.72 1779.42,1445.72 1781.46,1445.72 1783.51,1445.72 1785.56,1445.72 1787.61,1445.72 1789.65,1445.72 1791.7,1445.72 1793.75,1445.72 1795.8,1445.72 1797.85,1445.72 1799.89,1445.72 1801.94,1445.72 1803.99,1445.72 1806.04,1445.72 1808.09,1445.72 1810.13,1445.72 1812.18,1445.72 1814.23,1445.72 1816.28,1445.72 1818.32,1445.72 1820.37,1445.72 1822.42,1445.72 1824.47,1445.72 1826.52,1445.72 1828.56,1445.72 1830.61,1445.72 1832.66,1445.72 1834.71,1445.72 1836.76,1445.72 1838.8,1445.72 1840.85,1445.72 1842.9,1445.72 1844.95,1445.72 1846.99,1445.72 1849.04,1445.72 1851.09,1445.72 1853.14,1445.72 1855.19,1445.72 1857.23,1445.72 1859.28,1445.72 1861.33,1445.72 1863.38,1445.72 1865.43,1445.72 1867.47,1445.72 1869.52,1445.72 1871.57,1445.72 1873.62,1445.72 1875.67,1445.72 1877.71,1445.72 1879.76,1445.72 1881.81,1445.72 1883.86,1445.72 1885.9,1445.72 1887.95,1445.72 1890,1445.72 1892.05,1445.72 1894.1,1445.72 1896.14,1445.72 1898.19,1445.72 1900.24,1445.72 1902.29,1445.72 1904.34,1445.72 1906.38,1445.72 1908.43,1445.72 1910.48,1445.72 1912.53,1445.72 1914.57,1445.72 1916.62,1445.72 1918.67,1445.72 1920.72,1445.72 1922.77,1445.72 1924.81,1445.72 1926.86,1445.72 1928.91,1445.72 1930.96,1445.72 1933.01,1445.72 1935.05,1445.72 1937.1,1445.72 1939.15,1445.72 1941.2,1445.72 1943.24,1445.72 1945.29,1445.72 1947.34,1445.72 1949.39,1445.72 1951.44,1445.72 1953.48,1445.72 1955.53,1445.72 1957.58,1445.72 1959.63,1445.72 1961.68,1445.72 1963.72,1445.72 1965.77,1445.72 1967.82,1445.72 1969.87,1445.72 1971.91,1445.72 1973.96,1445.72 1976.01,1445.72 1978.06,1445.72 1980.11,1445.72 1982.15,1445.72 1984.2,1445.72 1986.25,1445.72 1988.3,1445.72 1990.35,1445.72 1992.39,1445.72 1994.44,1445.72 1996.49,1445.72 1998.54,1445.72 2000.58,1445.72 2002.63,1445.72 2004.68,1445.72 2006.73,1445.72 2008.78,1445.72 2010.82,1445.72 2012.87,1445.72 2014.92,1445.72 2016.97,1445.72 2019.02,1445.72 2021.06,1445.72 2023.11,1445.72 2025.16,1445.72 2027.21,1445.72 2029.25,1445.72 2031.3,1445.72 2033.35,1445.72 2035.4,1445.72 2037.45,1445.72 2039.49,1445.72 2041.54,1445.72 2043.59,1445.72 2045.64,1445.72 2047.69,1445.72 2049.73,1445.72 2051.78,1445.72 2053.83,1445.72 2055.88,1445.72 2057.92,1445.72 2059.97,1445.72 2062.02,1445.72 2064.07,1445.72 2066.12,1445.72 2068.16,1445.72 2070.21,1445.72 2072.26,1445.72 2074.31,1445.72 2076.36,1445.72 2078.4,1445.72 2080.45,1445.72 2082.5,1445.72 2084.55,1445.72 2086.6,1445.72 2088.64,1445.72 2090.69,1445.72 2092.74,1445.72 2094.79,1445.72 2096.83,1445.72 2098.88,1445.72 2100.93,1445.72 2102.98,1445.72 2105.03,1445.72 2107.07,1445.72 2109.12,1445.72 2111.17,1445.72 2113.22,1445.72 2115.27,1445.72 2117.31,1445.72 2119.36,1445.72 2121.41,1445.72 2123.46,1445.72 2125.5,1445.72 2127.55,1445.72 2129.6,1445.72 2131.65,1445.72 2133.7,1445.72 2135.74,1445.72 2137.79,1445.72 2139.84,1445.72 2141.89,1445.72 2143.94,1445.72 2145.98,1445.72 2148.03,1445.72 2150.08,1445.72 2152.13,1445.72 2154.17,1445.72 2156.22,1445.72 2158.27,1445.72 2160.32,1445.72 2162.37,1445.72 2164.41,1445.72 2166.46,1445.72 2168.51,1445.72 2170.56,1445.72 2172.61,1445.72 2174.65,1445.72 2176.7,1445.72 2178.75,1445.72 2180.8,1445.72 2182.84,1445.72 2184.89,1445.72 2186.94,1445.72 2188.99,1445.72 2191.04,1445.72 2193.08,1445.72 2195.13,1445.72 2197.18,1445.72 2199.23,1445.72 2201.28,1445.72 2203.32,1445.72 2205.37,1445.72 2207.42,1445.72 2209.47,1445.72 2211.51,1445.72 2213.56,1445.72 2215.61,1445.72 2217.66,1445.72 2219.71,1445.72 2221.75,1445.72 2223.8,1445.72 2225.85,1445.72 2227.9,1445.72 2229.95,1445.72 2231.99,1445.72 2234.04,1445.72 2236.09,1445.72 2238.14,1445.72 2240.18,1445.72 2242.23,1445.72 2244.28,1445.72 2246.33,1445.72 2248.38,1445.72 2250.42,1445.72 2252.47,1445.72 2254.52,1445.72 2256.57,1445.72 2258.62,1445.72 2260.66,1445.72 2262.71,1445.72 2264.76,1445.72 2266.81,1445.72 2268.85,1445.72 2270.9,1445.72 2272.95,1445.72 2275,1445.72 2277.05,1445.72 2279.09,1445.72 2281.14,1445.72 2283.19,1445.72 2285.24,1445.72 2287.29,1445.72 2289.33,1445.72 2291.38,1445.72 \"/>\n",
       "<path clip-path=\"url(#clip220)\" d=\"M2011.18 198.898 L2280.47 198.898 L2280.47 95.2176 L2011.18 95.2176  Z\" fill=\"#ffffff\" fill-rule=\"evenodd\" fill-opacity=\"1\"/>\n",
       "<polyline clip-path=\"url(#clip220)\" style=\"stroke:#000000; stroke-linecap:round; stroke-linejoin:round; stroke-width:4; stroke-opacity:1; fill:none\" points=\"2011.18,198.898 2280.47,198.898 2280.47,95.2176 2011.18,95.2176 2011.18,198.898 \"/>\n",
       "<polyline clip-path=\"url(#clip220)\" style=\"stroke:#009af9; stroke-linecap:round; stroke-linejoin:round; stroke-width:4; stroke-opacity:1; fill:none\" points=\"2035.28,147.058 2179.85,147.058 \"/>\n",
       "<path clip-path=\"url(#clip220)\" d=\"M2217.79 166.745 Q2215.98 171.375 2214.27 172.787 Q2212.56 174.199 2209.69 174.199 L2206.28 174.199 L2206.28 170.634 L2208.78 170.634 Q2210.54 170.634 2211.51 169.8 Q2212.49 168.967 2213.67 165.865 L2214.43 163.921 L2203.94 138.412 L2208.46 138.412 L2216.56 158.689 L2224.66 138.412 L2229.18 138.412 L2217.79 166.745 Z\" fill=\"#000000\" fill-rule=\"nonzero\" fill-opacity=\"1\" /><path clip-path=\"url(#clip220)\" d=\"M2236.47 160.402 L2244.11 160.402 L2244.11 134.037 L2235.8 135.703 L2235.8 131.444 L2244.06 129.778 L2248.74 129.778 L2248.74 160.402 L2256.38 160.402 L2256.38 164.338 L2236.47 164.338 L2236.47 160.402 Z\" fill=\"#000000\" fill-rule=\"nonzero\" fill-opacity=\"1\" /></svg>\n"
      ]
     },
     "execution_count": 18,
     "metadata": {},
     "output_type": "execute_result"
    }
   ],
   "source": [
    "plot(loss)"
   ]
  },
  {
   "cell_type": "code",
   "execution_count": 19,
   "metadata": {},
   "outputs": [
    {
     "name": "stdout",
     "output_type": "stream",
     "text": [
      "Expr\n",
      "  head: Symbol block\n",
      "  args: Array{Any}((2,))\n",
      "    1: LineNumberNode\n",
      "      line: Int64 3\n",
      "      file: Symbol In[19]\n",
      "    2: Expr\n",
      "      head: Symbol function\n",
      "      args: Array{Any}((2,))\n",
      "        1: Expr\n",
      "          head: Symbol call\n",
      "          args: Array{Any}((2,))\n",
      "            1: Symbol linear_regression_error\n",
      "            2: Symbol coef\n",
      "        2: Expr\n",
      "          head: Symbol block\n",
      "          args: Array{Any}((9,))\n",
      "            1: LineNumberNode\n",
      "              line: Int64 3\n",
      "              file: Symbol In[19]\n",
      "            2: LineNumberNode\n",
      "              line: Int64 4\n",
      "              file: Symbol In[19]\n",
      "            3: Expr\n",
      "              head: Symbol =\n",
      "              args: Array{Any}((2,))\n",
      "                1: Symbol pred\n",
      "                2: Expr\n",
      "            4: LineNumberNode\n",
      "              line: Int64 5\n",
      "              file: Symbol In[19]\n",
      "            5: Expr\n",
      "              head: Symbol =\n",
      "              args: Array{Any}((2,))\n",
      "                1: Symbol error\n",
      "                2: Int64 0\n",
      "            6: LineNumberNode\n",
      "              line: Int64 6\n",
      "              file: Symbol In[19]\n",
      "            7: Expr\n",
      "              head: Symbol for\n",
      "              args: Array{Any}((2,))\n",
      "                1: Expr\n",
      "                2: Expr\n",
      "            8: LineNumberNode\n",
      "              line: Int64 9\n",
      "              file: Symbol In[19]\n",
      "            9: Expr\n",
      "              head: Symbol return\n",
      "              args: Array{Any}((1,))\n",
      "                1: Symbol error\n"
     ]
    }
   ],
   "source": [
    "quote\n",
    "\n",
    "function linear_regression_error(coef)\n",
    "    pred = x * coef\n",
    "    error = 0\n",
    "    for i in eachindex(y)\n",
    "        error += (y[i] - pred[i])^2\n",
    "    end\n",
    "    return error\n",
    "end\n",
    "\n",
    "end |> dump "
   ]
  },
  {
   "cell_type": "code",
   "execution_count": null,
   "metadata": {},
   "outputs": [],
   "source": []
  }
 ],
 "metadata": {
  "kernelspec": {
   "display_name": "Julia 1.9.1",
   "language": "julia",
   "name": "julia-1.9"
  },
  "language_info": {
   "file_extension": ".jl",
   "mimetype": "application/julia",
   "name": "julia",
   "version": "1.9.1"
  }
 },
 "nbformat": 4,
 "nbformat_minor": 2
}
